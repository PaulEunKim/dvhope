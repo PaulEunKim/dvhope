{
 "cells": [
  {
   "cell_type": "code",
   "execution_count": 4,
   "metadata": {},
   "outputs": [],
   "source": [
    "import pandas as pd\n"
   ]
  },
  {
   "cell_type": "code",
   "execution_count": 13,
   "metadata": {},
   "outputs": [
    {
     "name": "stderr",
     "output_type": "stream",
     "text": [
      "C:\\Users\\Paul\\AppData\\Local\\Temp\\ipykernel_69828\\688487301.py:2: DtypeWarning: Columns (11) have mixed types. Specify dtype option on import or set low_memory=False.\n",
      "  pollution_df = pd.read_csv(\"../data/NEI_pollution_source_2020.csv\", encoding=\"ISO-8859-1\")\n",
      "C:\\Users\\Paul\\AppData\\Local\\Temp\\ipykernel_69828\\688487301.py:5: DtypeWarning: Columns (10,11) have mixed types. Specify dtype option on import or set low_memory=False.\n",
      "  health_df = pd.read_csv(\"../data/PLACES__Local_Data_for_Better_Health__County_Data_2024_release_20241023.csv\",\n"
     ]
    }
   ],
   "source": [
    "# Load Dataset 1\n",
    "pollution_df = pd.read_csv(\"../data/NEI_pollution_source_2020.csv\", encoding=\"ISO-8859-1\")\n",
    "\n",
    "# Load Dataset 2\n",
    "health_df = pd.read_csv(\"../data/PLACES__Local_Data_for_Better_Health__County_Data_2024_release_20241023.csv\",\n",
    "    encoding=\"ISO-8859-1\"\n",
    ")"
   ]
  },
  {
   "cell_type": "code",
   "execution_count": 14,
   "metadata": {},
   "outputs": [
    {
     "data": {
      "text/plain": [
       "Index(['Year', 'StateAbbr', 'StateDesc', 'LocationName', 'DataSource',\n",
       "       'Category', 'Measure', 'Data_Value_Unit', 'Data_Value_Type',\n",
       "       'Data_Value', 'Data_Value_Footnote_Symbol', 'Data_Value_Footnote',\n",
       "       'Low_Confidence_Limit', 'High_Confidence_Limit', 'TotalPopulation',\n",
       "       'TotalPop18plus', 'LocationID', 'CategoryID', 'MeasureId',\n",
       "       'DataValueTypeID', 'Short_Question_Text', 'Geolocation'],\n",
       "      dtype='object')"
      ]
     },
     "execution_count": 14,
     "metadata": {},
     "output_type": "execute_result"
    }
   ],
   "source": [
    "health_df.columns"
   ]
  },
  {
   "cell_type": "code",
   "execution_count": null,
   "metadata": {},
   "outputs": [
    {
     "data": {
      "text/html": [
       "<div>\n",
       "<style scoped>\n",
       "    .dataframe tbody tr th:only-of-type {\n",
       "        vertical-align: middle;\n",
       "    }\n",
       "\n",
       "    .dataframe tbody tr th {\n",
       "        vertical-align: top;\n",
       "    }\n",
       "\n",
       "    .dataframe thead th {\n",
       "        text-align: right;\n",
       "    }\n",
       "</style>\n",
       "<table border=\"1\" class=\"dataframe\">\n",
       "  <thead>\n",
       "    <tr style=\"text-align: right;\">\n",
       "      <th></th>\n",
       "      <th>Category</th>\n",
       "      <th>Measure</th>\n",
       "      <th>Data_Value_Unit</th>\n",
       "      <th>Data_Value_Type</th>\n",
       "      <th>Data_Value_Footnote_Symbol</th>\n",
       "    </tr>\n",
       "  </thead>\n",
       "  <tbody>\n",
       "    <tr>\n",
       "      <th>0</th>\n",
       "      <td>Health Outcomes</td>\n",
       "      <td>Diagnosed diabetes among adults</td>\n",
       "      <td>%</td>\n",
       "      <td>Crude prevalence</td>\n",
       "      <td>NaN</td>\n",
       "    </tr>\n",
       "    <tr>\n",
       "      <th>1</th>\n",
       "      <td>Disability</td>\n",
       "      <td>Hearing disability among adults</td>\n",
       "      <td>%</td>\n",
       "      <td>Crude prevalence</td>\n",
       "      <td>NaN</td>\n",
       "    </tr>\n",
       "    <tr>\n",
       "      <th>2</th>\n",
       "      <td>Health Outcomes</td>\n",
       "      <td>Stroke among adults</td>\n",
       "      <td>%</td>\n",
       "      <td>Age-adjusted prevalence</td>\n",
       "      <td>NaN</td>\n",
       "    </tr>\n",
       "    <tr>\n",
       "      <th>3</th>\n",
       "      <td>Health Outcomes</td>\n",
       "      <td>Stroke among adults</td>\n",
       "      <td>%</td>\n",
       "      <td>Crude prevalence</td>\n",
       "      <td>NaN</td>\n",
       "    </tr>\n",
       "    <tr>\n",
       "      <th>4</th>\n",
       "      <td>Health Outcomes</td>\n",
       "      <td>Stroke among adults</td>\n",
       "      <td>%</td>\n",
       "      <td>Crude prevalence</td>\n",
       "      <td>NaN</td>\n",
       "    </tr>\n",
       "    <tr>\n",
       "      <th>...</th>\n",
       "      <td>...</td>\n",
       "      <td>...</td>\n",
       "      <td>...</td>\n",
       "      <td>...</td>\n",
       "      <td>...</td>\n",
       "    </tr>\n",
       "    <tr>\n",
       "      <th>240881</th>\n",
       "      <td>Health Outcomes</td>\n",
       "      <td>High blood pressure among adults</td>\n",
       "      <td>%</td>\n",
       "      <td>Crude prevalence</td>\n",
       "      <td>NaN</td>\n",
       "    </tr>\n",
       "    <tr>\n",
       "      <th>240882</th>\n",
       "      <td>Health Outcomes</td>\n",
       "      <td>Depression among adults</td>\n",
       "      <td>%</td>\n",
       "      <td>Age-adjusted prevalence</td>\n",
       "      <td>NaN</td>\n",
       "    </tr>\n",
       "    <tr>\n",
       "      <th>240883</th>\n",
       "      <td>Prevention</td>\n",
       "      <td>Visited dentist or dental clinic in the past y...</td>\n",
       "      <td>%</td>\n",
       "      <td>Age-adjusted prevalence</td>\n",
       "      <td>NaN</td>\n",
       "    </tr>\n",
       "    <tr>\n",
       "      <th>240884</th>\n",
       "      <td>Disability</td>\n",
       "      <td>Self-care disability among adults</td>\n",
       "      <td>%</td>\n",
       "      <td>Crude prevalence</td>\n",
       "      <td>NaN</td>\n",
       "    </tr>\n",
       "    <tr>\n",
       "      <th>240885</th>\n",
       "      <td>Health Risk Behaviors</td>\n",
       "      <td>Binge drinking among adults</td>\n",
       "      <td>%</td>\n",
       "      <td>Crude prevalence</td>\n",
       "      <td>NaN</td>\n",
       "    </tr>\n",
       "  </tbody>\n",
       "</table>\n",
       "<p>240886 rows × 5 columns</p>\n",
       "</div>"
      ],
      "text/plain": [
       "                     Category  \\\n",
       "0             Health Outcomes   \n",
       "1                  Disability   \n",
       "2             Health Outcomes   \n",
       "3             Health Outcomes   \n",
       "4             Health Outcomes   \n",
       "...                       ...   \n",
       "240881        Health Outcomes   \n",
       "240882        Health Outcomes   \n",
       "240883             Prevention   \n",
       "240884             Disability   \n",
       "240885  Health Risk Behaviors   \n",
       "\n",
       "                                                  Measure Data_Value_Unit  \\\n",
       "0                         Diagnosed diabetes among adults               %   \n",
       "1                         Hearing disability among adults               %   \n",
       "2                                     Stroke among adults               %   \n",
       "3                                     Stroke among adults               %   \n",
       "4                                     Stroke among adults               %   \n",
       "...                                                   ...             ...   \n",
       "240881                   High blood pressure among adults               %   \n",
       "240882                            Depression among adults               %   \n",
       "240883  Visited dentist or dental clinic in the past y...               %   \n",
       "240884                  Self-care disability among adults               %   \n",
       "240885                        Binge drinking among adults               %   \n",
       "\n",
       "                Data_Value_Type Data_Value_Footnote_Symbol  \n",
       "0              Crude prevalence                        NaN  \n",
       "1              Crude prevalence                        NaN  \n",
       "2       Age-adjusted prevalence                        NaN  \n",
       "3              Crude prevalence                        NaN  \n",
       "4              Crude prevalence                        NaN  \n",
       "...                         ...                        ...  \n",
       "240881         Crude prevalence                        NaN  \n",
       "240882  Age-adjusted prevalence                        NaN  \n",
       "240883  Age-adjusted prevalence                        NaN  \n",
       "240884         Crude prevalence                        NaN  \n",
       "240885         Crude prevalence                        NaN  \n",
       "\n",
       "[240886 rows x 5 columns]"
      ]
     },
     "execution_count": 16,
     "metadata": {},
     "output_type": "execute_result"
    }
   ],
   "source": [
    "health_df[['Category','Measure', 'Data_Value_Type', 'Data_Value_Footnote_Symbol', 'Data_Value_Unit', 'Data_Value']]"
   ]
  },
  {
   "cell_type": "code",
   "execution_count": null,
   "metadata": {},
   "outputs": [],
   "source": [
    "import pandas as pd\n",
    "\n",
    "# Prepare Dataset 1\n",
    "pollution_df[['StateAbbr', 'County']] = pollution_df['State-County'].str.split(' - ', expand=True)\n",
    "\n",
    "# Prepare Dataset 2\n",
    "health_df['County'] = health_df['LocationName']\n",
    "\n",
    "# Create Composite Key in Both DataFrames\n",
    "pollution_df['StateCountyKey'] = pollution_df['StateAbbr'] + '-' + pollution_df['County']\n",
    "health_df['StateCountyKey'] = health_df['StateAbbr'] + '-' + health_df['County']\n",
    "joined_df = pollution_df.merge(health_df, on=\"StateCountyKey\", how=\"inner\")"
   ]
  },
  {
   "cell_type": "code",
   "execution_count": 8,
   "metadata": {},
   "outputs": [
    {
     "data": {
      "text/html": [
       "<div>\n",
       "<style scoped>\n",
       "    .dataframe tbody tr th:only-of-type {\n",
       "        vertical-align: middle;\n",
       "    }\n",
       "\n",
       "    .dataframe tbody tr th {\n",
       "        vertical-align: top;\n",
       "    }\n",
       "\n",
       "    .dataframe thead th {\n",
       "        text-align: right;\n",
       "    }\n",
       "</style>\n",
       "<table border=\"1\" class=\"dataframe\">\n",
       "  <thead>\n",
       "    <tr style=\"text-align: right;\">\n",
       "      <th></th>\n",
       "      <th>ï»¿State</th>\n",
       "      <th>State-County</th>\n",
       "      <th>Pollutant</th>\n",
       "      <th>Emissions (Tons)</th>\n",
       "      <th>Pollutant Type</th>\n",
       "      <th>Site Name</th>\n",
       "      <th>EIS Facility ID</th>\n",
       "      <th>Facility Type</th>\n",
       "      <th>Street Address</th>\n",
       "      <th>NAICS</th>\n",
       "      <th>Lat/Lon</th>\n",
       "      <th>EPA Region</th>\n",
       "      <th>FIPS</th>\n",
       "    </tr>\n",
       "  </thead>\n",
       "  <tbody>\n",
       "    <tr>\n",
       "      <th>0</th>\n",
       "      <td>Alabama</td>\n",
       "      <td>AL - Autauga</td>\n",
       "      <td>Carbon Dioxide</td>\n",
       "      <td>2,391,966.35098</td>\n",
       "      <td>GHG</td>\n",
       "      <td>Alabama Power Company</td>\n",
       "      <td>10708711</td>\n",
       "      <td>Electricity Generation via Combustion</td>\n",
       "      <td>3305 County Road 26</td>\n",
       "      <td>Fossil Fuel Electric Power Generation</td>\n",
       "      <td>[-86.738287,32.650024]</td>\n",
       "      <td>4</td>\n",
       "      <td>1001</td>\n",
       "    </tr>\n",
       "    <tr>\n",
       "      <th>1</th>\n",
       "      <td>Alabama</td>\n",
       "      <td>AL - Autauga</td>\n",
       "      <td>Nitrogen Oxides</td>\n",
       "      <td>211.00000</td>\n",
       "      <td>CAP</td>\n",
       "      <td>Alabama Power Company</td>\n",
       "      <td>10708711</td>\n",
       "      <td>Electricity Generation via Combustion</td>\n",
       "      <td>3305 County Road 26</td>\n",
       "      <td>Fossil Fuel Electric Power Generation</td>\n",
       "      <td>[-86.738287,32.650024]</td>\n",
       "      <td>4</td>\n",
       "      <td>1001</td>\n",
       "    </tr>\n",
       "    <tr>\n",
       "      <th>2</th>\n",
       "      <td>Alabama</td>\n",
       "      <td>AL - Autauga</td>\n",
       "      <td>Ammonia</td>\n",
       "      <td>109.72000</td>\n",
       "      <td>CAP</td>\n",
       "      <td>Alabama Power Company</td>\n",
       "      <td>10708711</td>\n",
       "      <td>Electricity Generation via Combustion</td>\n",
       "      <td>3305 County Road 26</td>\n",
       "      <td>Fossil Fuel Electric Power Generation</td>\n",
       "      <td>[-86.738287,32.650024]</td>\n",
       "      <td>4</td>\n",
       "      <td>1001</td>\n",
       "    </tr>\n",
       "    <tr>\n",
       "      <th>3</th>\n",
       "      <td>Alabama</td>\n",
       "      <td>AL - Autauga</td>\n",
       "      <td>PM2.5 Primary (Filt + Cond)</td>\n",
       "      <td>92.40000</td>\n",
       "      <td>CAP</td>\n",
       "      <td>Alabama Power Company</td>\n",
       "      <td>10708711</td>\n",
       "      <td>Electricity Generation via Combustion</td>\n",
       "      <td>3305 County Road 26</td>\n",
       "      <td>Fossil Fuel Electric Power Generation</td>\n",
       "      <td>[-86.738287,32.650024]</td>\n",
       "      <td>4</td>\n",
       "      <td>1001</td>\n",
       "    </tr>\n",
       "    <tr>\n",
       "      <th>4</th>\n",
       "      <td>Alabama</td>\n",
       "      <td>AL - Autauga</td>\n",
       "      <td>PM10 Primary (Filt + Cond)</td>\n",
       "      <td>92.40000</td>\n",
       "      <td>CAP</td>\n",
       "      <td>Alabama Power Company</td>\n",
       "      <td>10708711</td>\n",
       "      <td>Electricity Generation via Combustion</td>\n",
       "      <td>3305 County Road 26</td>\n",
       "      <td>Fossil Fuel Electric Power Generation</td>\n",
       "      <td>[-86.738287,32.650024]</td>\n",
       "      <td>4</td>\n",
       "      <td>1001</td>\n",
       "    </tr>\n",
       "  </tbody>\n",
       "</table>\n",
       "</div>"
      ],
      "text/plain": [
       "  ï»¿State  State-County                    Pollutant Emissions (Tons)  \\\n",
       "0  Alabama  AL - Autauga               Carbon Dioxide  2,391,966.35098   \n",
       "1  Alabama  AL - Autauga              Nitrogen Oxides        211.00000   \n",
       "2  Alabama  AL - Autauga                      Ammonia        109.72000   \n",
       "3  Alabama  AL - Autauga  PM2.5 Primary (Filt + Cond)         92.40000   \n",
       "4  Alabama  AL - Autauga   PM10 Primary (Filt + Cond)         92.40000   \n",
       "\n",
       "  Pollutant Type              Site Name  EIS Facility ID  \\\n",
       "0            GHG  Alabama Power Company         10708711   \n",
       "1            CAP  Alabama Power Company         10708711   \n",
       "2            CAP  Alabama Power Company         10708711   \n",
       "3            CAP  Alabama Power Company         10708711   \n",
       "4            CAP  Alabama Power Company         10708711   \n",
       "\n",
       "                           Facility Type       Street Address  \\\n",
       "0  Electricity Generation via Combustion  3305 County Road 26   \n",
       "1  Electricity Generation via Combustion  3305 County Road 26   \n",
       "2  Electricity Generation via Combustion  3305 County Road 26   \n",
       "3  Electricity Generation via Combustion  3305 County Road 26   \n",
       "4  Electricity Generation via Combustion  3305 County Road 26   \n",
       "\n",
       "                                   NAICS                 Lat/Lon EPA Region  \\\n",
       "0  Fossil Fuel Electric Power Generation  [-86.738287,32.650024]          4   \n",
       "1  Fossil Fuel Electric Power Generation  [-86.738287,32.650024]          4   \n",
       "2  Fossil Fuel Electric Power Generation  [-86.738287,32.650024]          4   \n",
       "3  Fossil Fuel Electric Power Generation  [-86.738287,32.650024]          4   \n",
       "4  Fossil Fuel Electric Power Generation  [-86.738287,32.650024]          4   \n",
       "\n",
       "   FIPS  \n",
       "0  1001  \n",
       "1  1001  \n",
       "2  1001  \n",
       "3  1001  \n",
       "4  1001  "
      ]
     },
     "execution_count": 8,
     "metadata": {},
     "output_type": "execute_result"
    }
   ],
   "source": [
    "pollution_df.head()"
   ]
  },
  {
   "cell_type": "markdown",
   "metadata": {},
   "source": []
  },
  {
   "cell_type": "code",
   "execution_count": 9,
   "metadata": {},
   "outputs": [
    {
     "ename": "NameError",
     "evalue": "name 'health_df' is not defined",
     "output_type": "error",
     "traceback": [
      "\u001b[1;31m---------------------------------------------------------------------------\u001b[0m",
      "\u001b[1;31mNameError\u001b[0m                                 Traceback (most recent call last)",
      "Cell \u001b[1;32mIn[9], line 1\u001b[0m\n\u001b[1;32m----> 1\u001b[0m \u001b[43mhealth_df\u001b[49m\u001b[38;5;241m.\u001b[39mhead()\n",
      "\u001b[1;31mNameError\u001b[0m: name 'health_df' is not defined"
     ]
    }
   ],
   "source": [
    "health_df.head()"
   ]
  },
  {
   "cell_type": "code",
   "execution_count": 10,
   "metadata": {},
   "outputs": [
    {
     "ename": "NameError",
     "evalue": "name 'joined_df' is not defined",
     "output_type": "error",
     "traceback": [
      "\u001b[1;31m---------------------------------------------------------------------------\u001b[0m",
      "\u001b[1;31mNameError\u001b[0m                                 Traceback (most recent call last)",
      "Cell \u001b[1;32mIn[10], line 1\u001b[0m\n\u001b[1;32m----> 1\u001b[0m \u001b[43mjoined_df\u001b[49m\u001b[38;5;241m.\u001b[39mhead(\u001b[38;5;241m50\u001b[39m)\n",
      "\u001b[1;31mNameError\u001b[0m: name 'joined_df' is not defined"
     ]
    }
   ],
   "source": [
    "joined_df.head(50)"
   ]
  },
  {
   "cell_type": "code",
   "execution_count": 14,
   "metadata": {},
   "outputs": [],
   "source": [
    "joined_df.to_csv(\"../exploratory_data_analysis/test.csv\")"
   ]
  },
  {
   "cell_type": "code",
   "execution_count": 15,
   "metadata": {},
   "outputs": [
    {
     "data": {
      "text/plain": [
       "Index(['State', 'State-County', 'Pollutant', 'Emissions (Tons)',\n",
       "       'Pollutant Type', 'Site Name', 'EIS Facility ID', 'Facility Type',\n",
       "       'Street Address', 'NAICS', 'Lat/Lon', 'EPA Region', 'FIPS',\n",
       "       'StateAbbr_x', 'County_x', 'StateCountyKey', 'Year', 'StateAbbr_y',\n",
       "       'StateDesc', 'LocationName', 'DataSource', 'Category', 'Measure',\n",
       "       'Data_Value_Unit', 'Data_Value_Type', 'Data_Value',\n",
       "       'Data_Value_Footnote_Symbol', 'Data_Value_Footnote',\n",
       "       'Low_Confidence_Limit', 'High_Confidence_Limit', 'TotalPopulation',\n",
       "       'TotalPop18plus', 'LocationID', 'CategoryID', 'MeasureId',\n",
       "       'DataValueTypeID', 'Short_Question_Text', 'Geolocation', 'County_y'],\n",
       "      dtype='object')"
      ]
     },
     "execution_count": 15,
     "metadata": {},
     "output_type": "execute_result"
    }
   ],
   "source": [
    "joined_df.columns"
   ]
  },
  {
   "cell_type": "code",
   "execution_count": 20,
   "metadata": {},
   "outputs": [],
   "source": [
    "from sklearn.preprocessing import LabelEncoder\n",
    "\n",
    "label_encoder = LabelEncoder()\n",
    "\n",
    "categorical_cols = [\n",
    "    \"Pollutant Type\", \"Pollutant\", \"MeasureId\", \"CategoryID\",\n",
    "    \"TotalPopulation\", \"TotalPop18plus\", \"State-County\"\n",
    "]\n",
    "\n",
    "# Apply LabelEncoder to each column in categorical_cols\n",
    "for col in categorical_cols:\n",
    "    joined_df[col + '_encoded'] = label_encoder.fit_transform(joined_df[col])\n",
    "\n"
   ]
  },
  {
   "cell_type": "code",
   "execution_count": 21,
   "metadata": {},
   "outputs": [],
   "source": [
    "joined_df.to_csv(\"../exploratory_data_analysis/encoded.csv\")"
   ]
  },
  {
   "cell_type": "code",
   "execution_count": 5,
   "metadata": {},
   "outputs": [
    {
     "name": "stderr",
     "output_type": "stream",
     "text": [
      "c:\\Users\\Paul\\anaconda3\\envs\\dvhope_pyspark3\\lib\\site-packages\\IPython\\core\\interactiveshell.py:3072: DtypeWarning: Columns (4) have mixed types.Specify dtype option on import or set low_memory=False.\n",
      "  interactivity=interactivity, compiler=compiler, result=result)\n"
     ]
    }
   ],
   "source": [
    "joined_df = pd.read_csv(\"../exploratory_data_analysis/encoded.csv\")\n"
   ]
  },
  {
   "cell_type": "code",
   "execution_count": 9,
   "metadata": {},
   "outputs": [],
   "source": [
    "filtered_data = joined_df[(joined_df[\"MeasureId\"] == \"CANCER\") & (joined_df[\"DataValueTypeID\"] == \"AgeAdjPrv\")]"
   ]
  },
  {
   "cell_type": "code",
   "execution_count": 11,
   "metadata": {},
   "outputs": [],
   "source": [
    "filtered_data.to_csv('../exploratory_data_analysis/filtered.csv')"
   ]
  },
  {
   "cell_type": "code",
   "execution_count": null,
   "metadata": {},
   "outputs": [],
   "source": []
  }
 ],
 "metadata": {
  "kernelspec": {
   "display_name": "dvhope-xgb2",
   "language": "python",
   "name": "python3"
  },
  "language_info": {
   "codemirror_mode": {
    "name": "ipython",
    "version": 3
   },
   "file_extension": ".py",
   "mimetype": "text/x-python",
   "name": "python",
   "nbconvert_exporter": "python",
   "pygments_lexer": "ipython3",
   "version": "3.10.0"
  }
 },
 "nbformat": 4,
 "nbformat_minor": 2
}
