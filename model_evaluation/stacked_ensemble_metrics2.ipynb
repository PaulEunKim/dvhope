{
 "cells": [
  {
   "cell_type": "code",
   "execution_count": 1,
   "metadata": {},
   "outputs": [],
   "source": [
    "import os\n",
    "os.environ[\"JAVA_HOME\"] = r\"C:\\Program Files\\Java\\jdk-17\"\n",
    "os.environ[\"PATH\"] = r\"C:\\Program Files\\Java\\jdk-17\\bin;\" + os.environ[\"PATH\"]"
   ]
  },
  {
   "cell_type": "code",
   "execution_count": 2,
   "metadata": {},
   "outputs": [
    {
     "name": "stderr",
     "output_type": "stream",
     "text": [
      "java version \"17.0.11\" 2024-04-16 LTS\n",
      "Java(TM) SE Runtime Environment (build 17.0.11+7-LTS-207)\n",
      "Java HotSpot(TM) 64-Bit Server VM (build 17.0.11+7-LTS-207, mixed mode, sharing)\n"
     ]
    }
   ],
   "source": [
    "!java -version"
   ]
  },
  {
   "cell_type": "code",
   "execution_count": 3,
   "metadata": {},
   "outputs": [
    {
     "name": "stdout",
     "output_type": "stream",
     "text": [
      "Checking whether there is an H2O instance running at http://localhost:24321..... not found.\n",
      "Attempting to start a local H2O server...\n",
      "; Java HotSpot(TM) 64-Bit Server VM (build 17.0.11+7-LTS-207, mixed mode, sharing)\n",
      "  Starting server from C:\\Users\\Paul\\anaconda3\\envs\\h2o\\Lib\\site-packages\\h2o\\backend\\bin\\h2o.jar\n",
      "  Ice root: C:\\Users\\Paul\\AppData\\Local\\Temp\\tmpalop3rfe\n",
      "  JVM stdout: C:\\Users\\Paul\\AppData\\Local\\Temp\\tmpalop3rfe\\h2o_Paul_started_from_python.out\n",
      "  JVM stderr: C:\\Users\\Paul\\AppData\\Local\\Temp\\tmpalop3rfe\\h2o_Paul_started_from_python.err\n",
      "  Server is running at http://127.0.0.1:24321\n",
      "Connecting to H2O server at http://127.0.0.1:24321 ... successful.\n"
     ]
    },
    {
     "data": {
      "text/html": [
       "\n",
       "<style>\n",
       "\n",
       "#h2o-table-1.h2o-container {\n",
       "  overflow-x: auto;\n",
       "}\n",
       "#h2o-table-1 .h2o-table {\n",
       "  /* width: 100%; */\n",
       "  margin-top: 1em;\n",
       "  margin-bottom: 1em;\n",
       "}\n",
       "#h2o-table-1 .h2o-table caption {\n",
       "  white-space: nowrap;\n",
       "  caption-side: top;\n",
       "  text-align: left;\n",
       "  /* margin-left: 1em; */\n",
       "  margin: 0;\n",
       "  font-size: larger;\n",
       "}\n",
       "#h2o-table-1 .h2o-table thead {\n",
       "  white-space: nowrap; \n",
       "  position: sticky;\n",
       "  top: 0;\n",
       "  box-shadow: 0 -1px inset;\n",
       "}\n",
       "#h2o-table-1 .h2o-table tbody {\n",
       "  overflow: auto;\n",
       "}\n",
       "#h2o-table-1 .h2o-table th,\n",
       "#h2o-table-1 .h2o-table td {\n",
       "  text-align: right;\n",
       "  /* border: 1px solid; */\n",
       "}\n",
       "#h2o-table-1 .h2o-table tr:nth-child(even) {\n",
       "  /* background: #F5F5F5 */\n",
       "}\n",
       "\n",
       "</style>      \n",
       "<div id=\"h2o-table-1\" class=\"h2o-container\">\n",
       "  <table class=\"h2o-table\">\n",
       "    <caption></caption>\n",
       "    <thead></thead>\n",
       "    <tbody><tr><td>H2O_cluster_uptime:</td>\n",
       "<td>01 secs</td></tr>\n",
       "<tr><td>H2O_cluster_timezone:</td>\n",
       "<td>America/Denver</td></tr>\n",
       "<tr><td>H2O_data_parsing_timezone:</td>\n",
       "<td>UTC</td></tr>\n",
       "<tr><td>H2O_cluster_version:</td>\n",
       "<td>3.46.0.5</td></tr>\n",
       "<tr><td>H2O_cluster_version_age:</td>\n",
       "<td>2 months and 18 days</td></tr>\n",
       "<tr><td>H2O_cluster_name:</td>\n",
       "<td>H2O_from_python_Paul_svyy3q</td></tr>\n",
       "<tr><td>H2O_cluster_total_nodes:</td>\n",
       "<td>1</td></tr>\n",
       "<tr><td>H2O_cluster_free_memory:</td>\n",
       "<td>29.97 Gb</td></tr>\n",
       "<tr><td>H2O_cluster_total_cores:</td>\n",
       "<td>32</td></tr>\n",
       "<tr><td>H2O_cluster_allowed_cores:</td>\n",
       "<td>32</td></tr>\n",
       "<tr><td>H2O_cluster_status:</td>\n",
       "<td>locked, healthy</td></tr>\n",
       "<tr><td>H2O_connection_url:</td>\n",
       "<td>http://127.0.0.1:24321</td></tr>\n",
       "<tr><td>H2O_connection_proxy:</td>\n",
       "<td>{\"http\": null, \"https\": null}</td></tr>\n",
       "<tr><td>H2O_internal_security:</td>\n",
       "<td>False</td></tr>\n",
       "<tr><td>Python_version:</td>\n",
       "<td>3.11.9 final</td></tr></tbody>\n",
       "  </table>\n",
       "</div>\n"
      ],
      "text/plain": [
       "--------------------------  -----------------------------\n",
       "H2O_cluster_uptime:         01 secs\n",
       "H2O_cluster_timezone:       America/Denver\n",
       "H2O_data_parsing_timezone:  UTC\n",
       "H2O_cluster_version:        3.46.0.5\n",
       "H2O_cluster_version_age:    2 months and 18 days\n",
       "H2O_cluster_name:           H2O_from_python_Paul_svyy3q\n",
       "H2O_cluster_total_nodes:    1\n",
       "H2O_cluster_free_memory:    29.97 Gb\n",
       "H2O_cluster_total_cores:    32\n",
       "H2O_cluster_allowed_cores:  32\n",
       "H2O_cluster_status:         locked, healthy\n",
       "H2O_connection_url:         http://127.0.0.1:24321\n",
       "H2O_connection_proxy:       {\"http\": null, \"https\": null}\n",
       "H2O_internal_security:      False\n",
       "Python_version:             3.11.9 final\n",
       "--------------------------  -----------------------------"
      ]
     },
     "metadata": {},
     "output_type": "display_data"
    }
   ],
   "source": [
    "import h2o\n",
    "h2o.init(port=24321)"
   ]
  },
  {
   "cell_type": "code",
   "execution_count": 4,
   "metadata": {},
   "outputs": [],
   "source": [
    "model_path = \"../saved_models/GBM_grid_1_AutoML_1_20241113_70146_model_225\"\n",
    "saved_model = h2o.load_model(model_path)"
   ]
  },
  {
   "cell_type": "code",
   "execution_count": 5,
   "metadata": {},
   "outputs": [
    {
     "data": {
      "text/plain": [
       "Index(['State', 'State-County', '1,1,2,2-Tetrachloroethane', '1,3-Butadiene',\n",
       "       '1,4-Dichlorobenzene', '2,2,4-Trimethylpentane', 'Acetaldehyde',\n",
       "       'Acrolein', 'Ammonia', 'Arsenic Compounds', 'Benzene',\n",
       "       'Beryllium Compounds', 'Cadmium Compounds', 'Carbon Dioxide',\n",
       "       'Carbon Monoxide', 'Carbon Tetrachloride', 'Chlorobenzene',\n",
       "       'Chloroform', 'Chromium Compounds', 'Cobalt Compounds', 'Cumene',\n",
       "       'Ethyl Chloride', 'Ethylbenzene', 'Formaldehyde', 'Hexane',\n",
       "       'Lead Compounds', 'Manganese Compounds', 'Mercury Compounds', 'Methane',\n",
       "       'Methanol', 'Methyl Isobutyl Ketone', 'Methylene Chloride',\n",
       "       'Naphthalene', 'Nickel Compounds', 'Nitrogen Oxides', 'Nitrous Oxide',\n",
       "       'PM10 Primary (Filt + Cond)', 'PM2.5 Primary (Filt + Cond)', 'Phenol',\n",
       "       'Polycyclic Organic Matter', 'Propionaldehyde', 'Selenium Compounds',\n",
       "       'Styrene', 'Sulfur Dioxide', 'Toluene', 'Vinyl Chloride',\n",
       "       'Volatile Organic Compounds', 'Xylenes (Mixed Isomers)', 'Data_Value'],\n",
       "      dtype='object')"
      ]
     },
     "execution_count": 5,
     "metadata": {},
     "output_type": "execute_result"
    }
   ],
   "source": [
    "import pandas as pd\n",
    "df = pd.read_csv('../data_preprocessing/pivoted_cancer.csv')\n",
    "df.columns"
   ]
  },
  {
   "cell_type": "code",
   "execution_count": 6,
   "metadata": {},
   "outputs": [
    {
     "name": "stdout",
     "output_type": "stream",
     "text": [
      "Parse progress: |████████████████████████████████████████████████████████████████| (done) 100%\n"
     ]
    }
   ],
   "source": [
    "h2o_df = h2o.H2OFrame(df)\n",
    "\n",
    "splits = h2o_df.split_frame(ratios = [0.8], seed = 1)\n",
    "train = splits[0]\n",
    "test = splits[1]"
   ]
  },
  {
   "cell_type": "code",
   "execution_count": 7,
   "metadata": {},
   "outputs": [
    {
     "name": "stdout",
     "output_type": "stream",
     "text": [
      "gbm prediction progress: |███████████████████████████████████████████████████████| (done) 100%\n",
      "  predict\n",
      "  6.86218\n",
      "  7.11347\n",
      "  6.53439\n",
      "  6.75701\n",
      "  6.74593\n",
      "  6.77077\n",
      "  6.72989\n",
      "  7.28185\n",
      "  6.63527\n",
      "  6.497\n",
      "[580 rows x 1 column]\n",
      "\n"
     ]
    }
   ],
   "source": [
    "predictions = saved_model.predict(test)\n",
    "print(predictions)"
   ]
  },
  {
   "cell_type": "code",
   "execution_count": 8,
   "metadata": {},
   "outputs": [
    {
     "name": "stdout",
     "output_type": "stream",
     "text": [
      "Model Details\n",
      "=============\n",
      "H2OGradientBoostingEstimator : Gradient Boosting Machine\n",
      "Model Key: GBM_grid_1_AutoML_1_20241113_70146_model_225\n",
      "\n",
      "\n",
      "Model Summary: \n",
      "    number_of_trees    number_of_internal_trees    model_size_in_bytes    min_depth    max_depth    mean_depth    min_leaves    max_leaves    mean_leaves\n",
      "--  -----------------  --------------------------  ---------------------  -----------  -----------  ------------  ------------  ------------  -------------\n",
      "    43                 43                          21934                  6            6            6             12            41            31\n",
      "\n",
      "ModelMetricsRegression: gbm\n",
      "** Reported on train data. **\n",
      "\n",
      "MSE: 0.09852770356198388\n",
      "RMSE: 0.31389122887074095\n",
      "MAE: 0.217609364403977\n",
      "RMSLE: 0.042041675856796884\n",
      "Mean Residual Deviance: 0.09852770356198388\n",
      "\n",
      "ModelMetricsRegression: gbm\n",
      "** Reported on cross-validation data. **\n",
      "\n",
      "MSE: 0.16822221876551482\n",
      "RMSE: 0.4101490201932888\n",
      "MAE: 0.2880653067528727\n",
      "RMSLE: 0.05465904386217353\n",
      "Mean Residual Deviance: 0.16822221876551482\n",
      "\n",
      "Cross-Validation Metrics Summary: \n",
      "                        mean       sd          cv_1_valid    cv_2_valid    cv_3_valid    cv_4_valid    cv_5_valid\n",
      "----------------------  ---------  ----------  ------------  ------------  ------------  ------------  ------------\n",
      "aic                     nan        0           nan           nan           nan           nan           nan\n",
      "loglikelihood           nan        0           nan           nan           nan           nan           nan\n",
      "mae                     0.288343   0.0131171   0.280602      0.274097      0.308387      0.292609      0.286018\n",
      "mean_residual_deviance  0.168687   0.013993    0.163909      0.152434      0.190071      0.172921      0.164102\n",
      "mse                     0.168687   0.013993    0.163909      0.152434      0.190071      0.172921      0.164102\n",
      "r2                      0.467795   0.0303355   0.481338      0.465103      0.429525      0.452784      0.510226\n",
      "residual_deviance       0.168687   0.013993    0.163909      0.152434      0.190071      0.172921      0.164102\n",
      "rmse                    0.410438   0.0168909   0.404857      0.390428      0.435972      0.415837      0.405095\n",
      "rmsle                   0.0546793  0.00210191  0.0537967     0.0520647     0.0577653     0.0553588     0.0544108\n",
      "\n",
      "Scoring History: \n",
      "    timestamp            duration          number_of_trees    training_rmse    training_mae    training_deviance\n",
      "--  -------------------  ----------------  -----------------  ---------------  --------------  -------------------\n",
      "    2024-11-13 08:55:27  1 min 31.745 sec  0                  0.563247         0.428512        0.317247\n",
      "    2024-11-13 08:55:27  1 min 31.758 sec  5                  0.466046         0.345422        0.217199\n",
      "    2024-11-13 08:55:27  1 min 31.766 sec  10                 0.426332         0.310641        0.181759\n",
      "    2024-11-13 08:55:27  1 min 31.783 sec  15                 0.387859         0.277363        0.150434\n",
      "    2024-11-13 08:55:27  1 min 31.783 sec  20                 0.366547         0.260129        0.134357\n",
      "    2024-11-13 08:55:27  1 min 31.800 sec  25                 0.347909         0.244645        0.121041\n",
      "    2024-11-13 08:55:27  1 min 31.818 sec  30                 0.338364         0.23724         0.11449\n",
      "    2024-11-13 08:55:27  1 min 31.819 sec  35                 0.327493         0.228399        0.107252\n",
      "    2024-11-13 08:55:27  1 min 31.833 sec  40                 0.319908         0.222536        0.102341\n",
      "    2024-11-13 08:55:27  1 min 31.833 sec  43                 0.313891         0.217609        0.0985277\n",
      "\n",
      "Variable Importances: \n",
      "variable                    relative_importance    scaled_importance       percentage\n",
      "--------------------------  ---------------------  ----------------------  ----------------------\n",
      "State                       1757.2171630859375     1.0                     0.6594502699698007\n",
      "Lead Compounds              63.209686279296875     0.035971471032237794    0.023721396283420078\n",
      "Formaldehyde                58.043460845947266     0.033031467063532556    0.021782609872545124\n",
      "Hexane                      53.67390823364258      0.03054483495903439     0.020142799659918234\n",
      "Carbon Dioxide              51.785640716552734     0.029470256610520103    0.019434168677886787\n",
      "Carbon Monoxide             48.777862548828125     0.02775858532087569     0.01830540658383122\n",
      "1,3-Butadiene               47.595855712890625     0.027085926949009048    0.017861821838906316\n",
      "Volatile Organic Compounds  44.84829330444336      0.025522339666705175    0.016830713783469682\n",
      "Nitrogen Oxides             44.5680046081543       0.025362832519736023    0.01672552675233876\n",
      "Acrolein                    35.62843704223633      0.02027548887564212     0.013370676612811886\n",
      "---                         ---                    ---                     ---\n",
      "Cobalt Compounds            3.184954881668091      0.00181249930206397     0.0011952531540661603\n",
      "Arsenic Compounds           3.0844106674194336     0.0017552814371575706   0.0011575208176065398\n",
      "Chloroform                  2.873649835586548      0.0016353413203294615   0.0010784262751840337\n",
      "Mercury Compounds           2.5565502643585205     0.0014548857808040264   0.0009594248209264395\n",
      "Chlorobenzene               2.488220691680908      0.0014160006764964773   0.0009337820283930224\n",
      "Beryllium Compounds         2.184722900390625      0.0012432856600113802   0.0008198850641440865\n",
      "Cumene                      2.1275596618652344     0.0012107551112970692   0.0007984327850121683\n",
      "Polycyclic Organic Matter   0.6771575808525085     0.0003853579370140672   0.0002541243955989321\n",
      "Carbon Tetrachloride        0.35704830288887024    0.0002031896286864395   0.00013399345549233607\n",
      "Ethyl Chloride              0.24512824416160583    0.00013949797970964716  9.199198037976859e-05\n",
      "[47 rows x 4 columns]\n",
      "\n"
     ]
    }
   ],
   "source": [
    "print(saved_model)"
   ]
  },
  {
   "cell_type": "code",
   "execution_count": 9,
   "metadata": {},
   "outputs": [
    {
     "data": {
      "text/plain": [
       "{'model_id': {'default': None,\n",
       "  'actual': {'__meta': {'schema_version': 3,\n",
       "    'schema_name': 'ModelKeyV3',\n",
       "    'schema_type': 'Key<Model>'},\n",
       "   'name': 'GBM_grid_1_AutoML_1_20241113_70146_model_225',\n",
       "   'type': 'Key<Model>',\n",
       "   'URL': '/3/Models/GBM_grid_1_AutoML_1_20241113_70146_model_225'},\n",
       "  'input': None},\n",
       " 'training_frame': {'default': None, 'actual': None, 'input': None},\n",
       " 'validation_frame': {'default': None, 'actual': None, 'input': None},\n",
       " 'nfolds': {'default': 0, 'actual': 5, 'input': 5},\n",
       " 'keep_cross_validation_models': {'default': True,\n",
       "  'actual': False,\n",
       "  'input': False},\n",
       " 'keep_cross_validation_predictions': {'default': False,\n",
       "  'actual': True,\n",
       "  'input': True},\n",
       " 'keep_cross_validation_fold_assignment': {'default': False,\n",
       "  'actual': False,\n",
       "  'input': False},\n",
       " 'score_each_iteration': {'default': False, 'actual': False, 'input': False},\n",
       " 'score_tree_interval': {'default': 0, 'actual': 5, 'input': 5},\n",
       " 'fold_assignment': {'default': 'AUTO', 'actual': 'Modulo', 'input': 'Modulo'},\n",
       " 'fold_column': {'default': None, 'actual': None, 'input': None},\n",
       " 'response_column': {'default': None,\n",
       "  'actual': {'__meta': {'schema_version': 3,\n",
       "    'schema_name': 'ColSpecifierV3',\n",
       "    'schema_type': 'VecSpecifier'},\n",
       "   'column_name': 'Data_Value',\n",
       "   'is_member_of_frames': None},\n",
       "  'input': {'__meta': {'schema_version': 3,\n",
       "    'schema_name': 'ColSpecifierV3',\n",
       "    'schema_type': 'VecSpecifier'},\n",
       "   'column_name': 'Data_Value',\n",
       "   'is_member_of_frames': None}},\n",
       " 'ignored_columns': {'default': None, 'actual': None, 'input': None},\n",
       " 'ignore_const_cols': {'default': True, 'actual': True, 'input': True},\n",
       " 'offset_column': {'default': None, 'actual': None, 'input': None},\n",
       " 'weights_column': {'default': None, 'actual': None, 'input': None},\n",
       " 'balance_classes': {'default': False, 'actual': False, 'input': False},\n",
       " 'class_sampling_factors': {'default': None, 'actual': None, 'input': None},\n",
       " 'max_after_balance_size': {'default': 5.0, 'actual': 5.0, 'input': 5.0},\n",
       " 'max_confusion_matrix_size': {'default': 20, 'actual': 20, 'input': 20},\n",
       " 'ntrees': {'default': 50, 'actual': 43, 'input': 10000},\n",
       " 'max_depth': {'default': 5, 'actual': 6, 'input': 6},\n",
       " 'min_rows': {'default': 10.0, 'actual': 15.0, 'input': 15.0},\n",
       " 'nbins': {'default': 20, 'actual': 20, 'input': 20},\n",
       " 'nbins_top_level': {'default': 1024, 'actual': 1024, 'input': 1024},\n",
       " 'nbins_cats': {'default': 1024, 'actual': 1024, 'input': 1024},\n",
       " 'r2_stopping': {'default': 1.7976931348623157e+308,\n",
       "  'actual': 1.7976931348623157e+308,\n",
       "  'input': 1.7976931348623157e+308},\n",
       " 'stopping_rounds': {'default': 0, 'actual': 0, 'input': 3},\n",
       " 'stopping_metric': {'default': 'AUTO',\n",
       "  'actual': 'deviance',\n",
       "  'input': 'deviance'},\n",
       " 'stopping_tolerance': {'default': 0.001,\n",
       "  'actual': 0.020558557070186494,\n",
       "  'input': 0.020558557070186494},\n",
       " 'max_runtime_secs': {'default': 0.0, 'actual': 106.40625, 'input': 85.125},\n",
       " 'seed': {'default': -1, 'actual': 200, 'input': 200},\n",
       " 'build_tree_one_node': {'default': False, 'actual': False, 'input': False},\n",
       " 'learn_rate': {'default': 0.1, 'actual': 0.1, 'input': 0.1},\n",
       " 'learn_rate_annealing': {'default': 1.0, 'actual': 1.0, 'input': 1.0},\n",
       " 'distribution': {'default': 'AUTO',\n",
       "  'actual': 'gaussian',\n",
       "  'input': 'gaussian'},\n",
       " 'quantile_alpha': {'default': 0.5, 'actual': 0.5, 'input': 0.5},\n",
       " 'tweedie_power': {'default': 1.5, 'actual': 1.5, 'input': 1.5},\n",
       " 'huber_alpha': {'default': 0.9, 'actual': 0.9, 'input': 0.9},\n",
       " 'checkpoint': {'default': None, 'actual': None, 'input': None},\n",
       " 'sample_rate': {'default': 1.0, 'actual': 0.9, 'input': 0.9},\n",
       " 'sample_rate_per_class': {'default': None, 'actual': None, 'input': None},\n",
       " 'col_sample_rate': {'default': 1.0, 'actual': 0.7, 'input': 0.7},\n",
       " 'col_sample_rate_change_per_level': {'default': 1.0,\n",
       "  'actual': 1.0,\n",
       "  'input': 1.0},\n",
       " 'col_sample_rate_per_tree': {'default': 1.0, 'actual': 0.7, 'input': 0.7},\n",
       " 'min_split_improvement': {'default': 1e-05,\n",
       "  'actual': 0.0001,\n",
       "  'input': 0.0001},\n",
       " 'histogram_type': {'default': 'AUTO',\n",
       "  'actual': 'UniformAdaptive',\n",
       "  'input': 'AUTO'},\n",
       " 'max_abs_leafnode_pred': {'default': 1.7976931348623157e+308,\n",
       "  'actual': 1.7976931348623157e+308,\n",
       "  'input': 1.7976931348623157e+308},\n",
       " 'pred_noise_bandwidth': {'default': 0.0, 'actual': 0.0, 'input': 0.0},\n",
       " 'categorical_encoding': {'default': 'AUTO',\n",
       "  'actual': 'Enum',\n",
       "  'input': 'AUTO'},\n",
       " 'calibrate_model': {'default': False, 'actual': False, 'input': False},\n",
       " 'calibration_frame': {'default': None, 'actual': None, 'input': None},\n",
       " 'calibration_method': {'default': 'AUTO',\n",
       "  'actual': 'PlattScaling',\n",
       "  'input': 'AUTO'},\n",
       " 'custom_metric_func': {'default': None, 'actual': None, 'input': None},\n",
       " 'custom_distribution_func': {'default': None, 'actual': None, 'input': None},\n",
       " 'export_checkpoints_dir': {'default': None, 'actual': None, 'input': None},\n",
       " 'in_training_checkpoints_dir': {'default': None,\n",
       "  'actual': None,\n",
       "  'input': None},\n",
       " 'in_training_checkpoints_tree_interval': {'default': 1,\n",
       "  'actual': 1,\n",
       "  'input': 1},\n",
       " 'monotone_constraints': {'default': None, 'actual': None, 'input': None},\n",
       " 'check_constant_response': {'default': True, 'actual': True, 'input': True},\n",
       " 'gainslift_bins': {'default': -1, 'actual': -1, 'input': -1},\n",
       " 'auc_type': {'default': 'AUTO', 'actual': 'AUTO', 'input': 'AUTO'},\n",
       " 'interaction_constraints': {'default': None, 'actual': None, 'input': None},\n",
       " 'auto_rebalance': {'default': True, 'actual': True, 'input': True}}"
      ]
     },
     "execution_count": 9,
     "metadata": {},
     "output_type": "execute_result"
    }
   ],
   "source": [
    "saved_model.params"
   ]
  },
  {
   "cell_type": "code",
   "execution_count": 10,
   "metadata": {},
   "outputs": [
    {
     "ename": "ImportError",
     "evalue": "cannot import name 'H2OTreeGraph' from 'h2o.tree' (c:\\Users\\Paul\\anaconda3\\envs\\h2o\\Lib\\site-packages\\h2o\\tree\\__init__.py)",
     "output_type": "error",
     "traceback": [
      "\u001b[1;31m---------------------------------------------------------------------------\u001b[0m",
      "\u001b[1;31mImportError\u001b[0m                               Traceback (most recent call last)",
      "Cell \u001b[1;32mIn[10], line 2\u001b[0m\n\u001b[0;32m      1\u001b[0m \u001b[38;5;28;01mfrom\u001b[39;00m \u001b[38;5;21;01mh2o\u001b[39;00m\u001b[38;5;21;01m.\u001b[39;00m\u001b[38;5;21;01mtree\u001b[39;00m \u001b[38;5;28;01mimport\u001b[39;00m H2OTree\n\u001b[1;32m----> 2\u001b[0m \u001b[38;5;28;01mfrom\u001b[39;00m \u001b[38;5;21;01mh2o\u001b[39;00m\u001b[38;5;21;01m.\u001b[39;00m\u001b[38;5;21;01mtree\u001b[39;00m \u001b[38;5;28;01mimport\u001b[39;00m H2OTreeGraph\n\u001b[0;32m      4\u001b[0m \u001b[38;5;66;03m# Save visual representations\u001b[39;00m\n\u001b[0;32m      5\u001b[0m \u001b[38;5;28;01mfor\u001b[39;00m tree_number \u001b[38;5;129;01min\u001b[39;00m \u001b[38;5;28mrange\u001b[39m(saved_model\u001b[38;5;241m.\u001b[39mntrees):\n",
      "\u001b[1;31mImportError\u001b[0m: cannot import name 'H2OTreeGraph' from 'h2o.tree' (c:\\Users\\Paul\\anaconda3\\envs\\h2o\\Lib\\site-packages\\h2o\\tree\\__init__.py)"
     ]
    }
   ],
   "source": [
    "from h2o.tree import H2OTree\n",
    "from h2o.tree import H2OTreeGraph\n",
    "\n",
    "# Save visual representations\n",
    "for tree_number in range(saved_model.ntrees):\n",
    "    print(f\"Saving Tree {tree_number + 1}/{saved_model.ntrees}\")\n",
    "    tree_graph = H2OTreeGraph(model=saved_model, tree_number=tree_number)\n",
    "    tree_graph.view()"
   ]
  },
  {
   "cell_type": "code",
   "execution_count": 13,
   "metadata": {},
   "outputs": [
    {
     "ename": "ImportError",
     "evalue": "cannot import name 'H2OTreeGraph' from 'h2o.tree' (c:\\Users\\Paul\\anaconda3\\envs\\h2o\\Lib\\site-packages\\h2o\\tree\\__init__.py)",
     "output_type": "error",
     "traceback": [
      "\u001b[1;31m---------------------------------------------------------------------------\u001b[0m",
      "\u001b[1;31mImportError\u001b[0m                               Traceback (most recent call last)",
      "Cell \u001b[1;32mIn[13], line 2\u001b[0m\n\u001b[0;32m      1\u001b[0m \u001b[38;5;28;01mimport\u001b[39;00m \u001b[38;5;21;01mos\u001b[39;00m\n\u001b[1;32m----> 2\u001b[0m \u001b[38;5;28;01mfrom\u001b[39;00m \u001b[38;5;21;01mh2o\u001b[39;00m\u001b[38;5;21;01m.\u001b[39;00m\u001b[38;5;21;01mtree\u001b[39;00m \u001b[38;5;28;01mimport\u001b[39;00m H2OTreeGraph\n\u001b[0;32m      4\u001b[0m \u001b[38;5;66;03m# Create a directory to save the tree plots\u001b[39;00m\n\u001b[0;32m      5\u001b[0m output_dir \u001b[38;5;241m=\u001b[39m \u001b[38;5;124m\"\u001b[39m\u001b[38;5;124mh2o_tree_plots\u001b[39m\u001b[38;5;124m\"\u001b[39m\n",
      "\u001b[1;31mImportError\u001b[0m: cannot import name 'H2OTreeGraph' from 'h2o.tree' (c:\\Users\\Paul\\anaconda3\\envs\\h2o\\Lib\\site-packages\\h2o\\tree\\__init__.py)"
     ]
    }
   ],
   "source": [
    "import os\n",
    "from h2o.tree import H2OTreeGraph\n",
    "\n",
    "# Create a directory to save the tree plots\n",
    "output_dir = \"h2o_tree_plots\"\n",
    "os.makedirs(output_dir, exist_ok=True)\n",
    "\n",
    "# Save each tree plot as an image\n",
    "for tree_number in range(saved_model.ntrees):\n",
    "    print(f\"Saving Tree {tree_number + 1}/{saved_model.ntrees}\")\n",
    "    plot_path = os.path.join(output_dir, f\"tree_{tree_number + 1}.png\")\n",
    "    tree_graph = H2OTreeGraph(model=saved_model, tree_number=tree_number)\n",
    "    tree_graph.view().savefig(plot_path)"
   ]
  },
  {
   "cell_type": "code",
   "execution_count": null,
   "metadata": {},
   "outputs": [],
   "source": []
  }
 ],
 "metadata": {
  "kernelspec": {
   "display_name": "h2o",
   "language": "python",
   "name": "python3"
  },
  "language_info": {
   "codemirror_mode": {
    "name": "ipython",
    "version": 3
   },
   "file_extension": ".py",
   "mimetype": "text/x-python",
   "name": "python",
   "nbconvert_exporter": "python",
   "pygments_lexer": "ipython3",
   "version": "3.11.9"
  }
 },
 "nbformat": 4,
 "nbformat_minor": 2
}
