{
 "cells": [
  {
   "cell_type": "markdown",
   "metadata": {},
   "source": [
    "## Goal:\n",
    "I want to highlight the individual contributors of the shapley summary plot to be a different color based on if they are equal to a certain state. The idea is that if the user clicks on a state, the individual contributors of the shapley plot will be highlighted to illustrate the state."
   ]
  },
  {
   "cell_type": "code",
   "execution_count": 11,
   "metadata": {},
   "outputs": [],
   "source": [
    "import os\n",
    "os.environ[\"JAVA_HOME\"] = r\"C:\\Program Files\\Java\\jdk-17\"\n",
    "os.environ[\"PATH\"] = r\"C:\\Program Files\\Java\\jdk-17\\bin;\" + os.environ[\"PATH\"]"
   ]
  },
  {
   "cell_type": "code",
   "execution_count": 12,
   "metadata": {},
   "outputs": [
    {
     "name": "stderr",
     "output_type": "stream",
     "text": [
      "java version \"17.0.11\" 2024-04-16 LTS\n",
      "Java(TM) SE Runtime Environment (build 17.0.11+7-LTS-207)\n",
      "Java HotSpot(TM) 64-Bit Server VM (build 17.0.11+7-LTS-207, mixed mode, sharing)\n"
     ]
    }
   ],
   "source": [
    "!java -version"
   ]
  },
  {
   "cell_type": "code",
   "execution_count": 13,
   "metadata": {},
   "outputs": [
    {
     "name": "stdout",
     "output_type": "stream",
     "text": [
      "Checking whether there is an H2O instance running at http://localhost:44321..... not found.\n",
      "Attempting to start a local H2O server...\n",
      "; Java HotSpot(TM) 64-Bit Server VM (build 17.0.11+7-LTS-207, mixed mode, sharing)\n",
      "  Starting server from C:\\Users\\Paul\\anaconda3\\envs\\h2o\\Lib\\site-packages\\h2o\\backend\\bin\\h2o.jar\n",
      "  Ice root: C:\\Users\\Paul\\AppData\\Local\\Temp\\tmpbqqunu6h\n",
      "  JVM stdout: C:\\Users\\Paul\\AppData\\Local\\Temp\\tmpbqqunu6h\\h2o_Paul_started_from_python.out\n",
      "  JVM stderr: C:\\Users\\Paul\\AppData\\Local\\Temp\\tmpbqqunu6h\\h2o_Paul_started_from_python.err\n",
      "  Server is running at http://127.0.0.1:44321\n",
      "Connecting to H2O server at http://127.0.0.1:44321 ... successful.\n"
     ]
    },
    {
     "data": {
      "text/html": [
       "\n",
       "<style>\n",
       "\n",
       "#h2o-table-2.h2o-container {\n",
       "  overflow-x: auto;\n",
       "}\n",
       "#h2o-table-2 .h2o-table {\n",
       "  /* width: 100%; */\n",
       "  margin-top: 1em;\n",
       "  margin-bottom: 1em;\n",
       "}\n",
       "#h2o-table-2 .h2o-table caption {\n",
       "  white-space: nowrap;\n",
       "  caption-side: top;\n",
       "  text-align: left;\n",
       "  /* margin-left: 1em; */\n",
       "  margin: 0;\n",
       "  font-size: larger;\n",
       "}\n",
       "#h2o-table-2 .h2o-table thead {\n",
       "  white-space: nowrap; \n",
       "  position: sticky;\n",
       "  top: 0;\n",
       "  box-shadow: 0 -1px inset;\n",
       "}\n",
       "#h2o-table-2 .h2o-table tbody {\n",
       "  overflow: auto;\n",
       "}\n",
       "#h2o-table-2 .h2o-table th,\n",
       "#h2o-table-2 .h2o-table td {\n",
       "  text-align: right;\n",
       "  /* border: 1px solid; */\n",
       "}\n",
       "#h2o-table-2 .h2o-table tr:nth-child(even) {\n",
       "  /* background: #F5F5F5 */\n",
       "}\n",
       "\n",
       "</style>      \n",
       "<div id=\"h2o-table-2\" class=\"h2o-container\">\n",
       "  <table class=\"h2o-table\">\n",
       "    <caption></caption>\n",
       "    <thead></thead>\n",
       "    <tbody><tr><td>H2O_cluster_uptime:</td>\n",
       "<td>01 secs</td></tr>\n",
       "<tr><td>H2O_cluster_timezone:</td>\n",
       "<td>America/Denver</td></tr>\n",
       "<tr><td>H2O_data_parsing_timezone:</td>\n",
       "<td>UTC</td></tr>\n",
       "<tr><td>H2O_cluster_version:</td>\n",
       "<td>3.46.0.5</td></tr>\n",
       "<tr><td>H2O_cluster_version_age:</td>\n",
       "<td>2 months and 16 days</td></tr>\n",
       "<tr><td>H2O_cluster_name:</td>\n",
       "<td>H2O_from_python_Paul_bbra0i</td></tr>\n",
       "<tr><td>H2O_cluster_total_nodes:</td>\n",
       "<td>1</td></tr>\n",
       "<tr><td>H2O_cluster_free_memory:</td>\n",
       "<td>29.97 Gb</td></tr>\n",
       "<tr><td>H2O_cluster_total_cores:</td>\n",
       "<td>32</td></tr>\n",
       "<tr><td>H2O_cluster_allowed_cores:</td>\n",
       "<td>32</td></tr>\n",
       "<tr><td>H2O_cluster_status:</td>\n",
       "<td>locked, healthy</td></tr>\n",
       "<tr><td>H2O_connection_url:</td>\n",
       "<td>http://127.0.0.1:44321</td></tr>\n",
       "<tr><td>H2O_connection_proxy:</td>\n",
       "<td>{\"http\": null, \"https\": null}</td></tr>\n",
       "<tr><td>H2O_internal_security:</td>\n",
       "<td>False</td></tr>\n",
       "<tr><td>Python_version:</td>\n",
       "<td>3.11.9 final</td></tr></tbody>\n",
       "  </table>\n",
       "</div>\n"
      ],
      "text/plain": [
       "--------------------------  -----------------------------\n",
       "H2O_cluster_uptime:         01 secs\n",
       "H2O_cluster_timezone:       America/Denver\n",
       "H2O_data_parsing_timezone:  UTC\n",
       "H2O_cluster_version:        3.46.0.5\n",
       "H2O_cluster_version_age:    2 months and 16 days\n",
       "H2O_cluster_name:           H2O_from_python_Paul_bbra0i\n",
       "H2O_cluster_total_nodes:    1\n",
       "H2O_cluster_free_memory:    29.97 Gb\n",
       "H2O_cluster_total_cores:    32\n",
       "H2O_cluster_allowed_cores:  32\n",
       "H2O_cluster_status:         locked, healthy\n",
       "H2O_connection_url:         http://127.0.0.1:44321\n",
       "H2O_connection_proxy:       {\"http\": null, \"https\": null}\n",
       "H2O_internal_security:      False\n",
       "Python_version:             3.11.9 final\n",
       "--------------------------  -----------------------------"
      ]
     },
     "metadata": {},
     "output_type": "display_data"
    }
   ],
   "source": [
    "import h2o\n",
    "h2o.init(port=44321)"
   ]
  },
  {
   "cell_type": "code",
   "execution_count": 14,
   "metadata": {},
   "outputs": [],
   "source": [
    "model_path = \"../saved_models/GBM_grid_1_AutoML_1_20241113_70146_model_225\"\n",
    "saved_model = h2o.load_model(model_path)"
   ]
  },
  {
   "cell_type": "code",
   "execution_count": 15,
   "metadata": {},
   "outputs": [
    {
     "data": {
      "text/plain": [
       "Index(['State', 'State-County', '1,1,2,2-Tetrachloroethane', '1,3-Butadiene',\n",
       "       '1,4-Dichlorobenzene', '2,2,4-Trimethylpentane', 'Acetaldehyde',\n",
       "       'Acrolein', 'Ammonia', 'Arsenic Compounds', 'Benzene',\n",
       "       'Beryllium Compounds', 'Cadmium Compounds', 'Carbon Dioxide',\n",
       "       'Carbon Monoxide', 'Carbon Tetrachloride', 'Chlorobenzene',\n",
       "       'Chloroform', 'Chromium Compounds', 'Cobalt Compounds', 'Cumene',\n",
       "       'Ethyl Chloride', 'Ethylbenzene', 'Formaldehyde', 'Hexane',\n",
       "       'Lead Compounds', 'Manganese Compounds', 'Mercury Compounds', 'Methane',\n",
       "       'Methanol', 'Methyl Isobutyl Ketone', 'Methylene Chloride',\n",
       "       'Naphthalene', 'Nickel Compounds', 'Nitrogen Oxides', 'Nitrous Oxide',\n",
       "       'PM10 Primary (Filt + Cond)', 'PM2.5 Primary (Filt + Cond)', 'Phenol',\n",
       "       'Polycyclic Organic Matter', 'Propionaldehyde', 'Selenium Compounds',\n",
       "       'Styrene', 'Sulfur Dioxide', 'Toluene', 'Vinyl Chloride',\n",
       "       'Volatile Organic Compounds', 'Xylenes (Mixed Isomers)', 'Data_Value'],\n",
       "      dtype='object')"
      ]
     },
     "execution_count": 15,
     "metadata": {},
     "output_type": "execute_result"
    }
   ],
   "source": [
    "import pandas as pd\n",
    "df = pd.read_csv('../data_preprocessing/pivoted_cancer.csv')\n",
    "df.columns"
   ]
  },
  {
   "cell_type": "code",
   "execution_count": 16,
   "metadata": {},
   "outputs": [
    {
     "name": "stdout",
     "output_type": "stream",
     "text": [
      "Parse progress: |████████████████████████████████████████████████████████████████| (done) 100%\n"
     ]
    }
   ],
   "source": [
    "h2o_df = h2o.H2OFrame(df)\n",
    "\n",
    "splits = h2o_df.split_frame(ratios = [0.8], seed = 1)\n",
    "train = splits[0]\n",
    "test = splits[1]"
   ]
  },
  {
   "cell_type": "code",
   "execution_count": 17,
   "metadata": {},
   "outputs": [
    {
     "name": "stdout",
     "output_type": "stream",
     "text": [
      "gbm prediction progress: |"
     ]
    },
    {
     "name": "stdout",
     "output_type": "stream",
     "text": [
      "███████████████████████████████████████████████████████| (done) 100%\n",
      "  predict\n",
      "  6.86218\n",
      "  7.11347\n",
      "  6.53439\n",
      "  6.75701\n",
      "  6.74593\n",
      "  6.77077\n",
      "  6.72989\n",
      "  7.28185\n",
      "  6.63527\n",
      "  6.497\n",
      "[580 rows x 1 column]\n",
      "\n"
     ]
    }
   ],
   "source": [
    "predictions = saved_model.predict(test)\n",
    "print(predictions)"
   ]
  },
  {
   "cell_type": "code",
   "execution_count": 29,
   "metadata": {},
   "outputs": [
    {
     "name": "stderr",
     "output_type": "stream",
     "text": [
      "c:\\Users\\Paul\\anaconda3\\envs\\h2o\\Lib\\site-packages\\h2o\\frame.py:1981: H2ODependencyWarning: Converting H2O frame to pandas dataframe using single-thread.  For faster conversion using multi-thread, install polars and pyarrow and use it as pandas_df = h2o_df.as_data_frame(use_multi_thread=True)\n",
      "\n",
      "  warnings.warn(\"Converting H2O frame to pandas dataframe using single-thread.  For faster conversion using\"\n",
      "c:\\Users\\Paul\\anaconda3\\envs\\h2o\\Lib\\site-packages\\h2o\\frame.py:1981: H2ODependencyWarning: Converting H2O frame to pandas dataframe using single-thread.  For faster conversion using multi-thread, install polars and pyarrow and use it as pandas_df = h2o_df.as_data_frame(use_multi_thread=True)\n",
      "\n",
      "  warnings.warn(\"Converting H2O frame to pandas dataframe using single-thread.  For faster conversion using\"\n",
      "c:\\Users\\Paul\\anaconda3\\envs\\h2o\\Lib\\site-packages\\h2o\\frame.py:1981: H2ODependencyWarning: Converting H2O frame to pandas dataframe using single-thread.  For faster conversion using multi-thread, install polars and pyarrow and use it as pandas_df = h2o_df.as_data_frame(use_multi_thread=True)\n",
      "\n",
      "  warnings.warn(\"Converting H2O frame to pandas dataframe using single-thread.  For faster conversion using\"\n",
      "c:\\Users\\Paul\\anaconda3\\envs\\h2o\\Lib\\site-packages\\h2o\\frame.py:1981: H2ODependencyWarning: Converting H2O frame to pandas dataframe using single-thread.  For faster conversion using multi-thread, install polars and pyarrow and use it as pandas_df = h2o_df.as_data_frame(use_multi_thread=True)\n",
      "\n",
      "  warnings.warn(\"Converting H2O frame to pandas dataframe using single-thread.  For faster conversion using\"\n"
     ]
    }
   ],
   "source": [
    "y = \"Data_Value\"  # Replace with the actual name of your target column\n",
    "\n",
    "# Specify the predictor columns (all columns except the target column)\n",
    "x = [col for col in h2o_df.columns if col != y]\n",
    "train_x = train[x].as_data_frame()\n",
    "train_y = train[y].as_data_frame()\n",
    "\n",
    "# For testing data\n",
    "test_x = test[x].as_data_frame()\n",
    "test_y = test[y].as_data_frame()"
   ]
  },
  {
   "cell_type": "code",
   "execution_count": null,
   "metadata": {},
   "outputs": [
    {
     "data": {
      "text/plain": [
       "Index(['State', 'State-County', '1,1,2,2-Tetrachloroethane', '1,3-Butadiene',\n",
       "       '1,4-Dichlorobenzene', '2,2,4-Trimethylpentane', 'Acetaldehyde',\n",
       "       'Acrolein', 'Ammonia', 'Arsenic Compounds', 'Benzene',\n",
       "       'Beryllium Compounds', 'Cadmium Compounds', 'Carbon Dioxide',\n",
       "       'Carbon Monoxide', 'Carbon Tetrachloride', 'Chlorobenzene',\n",
       "       'Chloroform', 'Chromium Compounds', 'Cobalt Compounds', 'Cumene',\n",
       "       'Ethyl Chloride', 'Ethylbenzene', 'Formaldehyde', 'Hexane',\n",
       "       'Lead Compounds', 'Manganese Compounds', 'Mercury Compounds', 'Methane',\n",
       "       'Methanol', 'Methyl Isobutyl Ketone', 'Methylene Chloride',\n",
       "       'Naphthalene', 'Nickel Compounds', 'Nitrogen Oxides', 'Nitrous Oxide',\n",
       "       'PM10 Primary (Filt + Cond)', 'PM2.5 Primary (Filt + Cond)', 'Phenol',\n",
       "       'Polycyclic Organic Matter', 'Propionaldehyde', 'Selenium Compounds',\n",
       "       'Styrene', 'Sulfur Dioxide', 'Toluene', 'Vinyl Chloride',\n",
       "       'Volatile Organic Compounds', 'Xylenes (Mixed Isomers)'],\n",
       "      dtype='object')"
      ]
     },
     "execution_count": 31,
     "metadata": {},
     "output_type": "execute_result"
    }
   ],
   "source": []
  },
  {
   "cell_type": "code",
   "execution_count": 36,
   "metadata": {},
   "outputs": [
    {
     "name": "stdout",
     "output_type": "stream",
     "text": [
      "contributions progress: |████████████████████████████████████████████████████████| (done) 100%\n"
     ]
    },
    {
     "name": "stderr",
     "output_type": "stream",
     "text": [
      "c:\\Users\\Paul\\anaconda3\\envs\\h2o\\Lib\\site-packages\\h2o\\frame.py:1981: H2ODependencyWarning: Converting H2O frame to pandas dataframe using single-thread.  For faster conversion using multi-thread, install polars and pyarrow and use it as pandas_df = h2o_df.as_data_frame(use_multi_thread=True)\n",
      "\n",
      "  warnings.warn(\"Converting H2O frame to pandas dataframe using single-thread.  For faster conversion using\"\n"
     ]
    },
    {
     "data": {
      "text/plain": [
       "Index(['State', '1,1,2,2-Tetrachloroethane', '1,3-Butadiene',\n",
       "       '1,4-Dichlorobenzene', '2,2,4-Trimethylpentane', 'Acetaldehyde',\n",
       "       'Acrolein', 'Ammonia', 'Arsenic Compounds', 'Benzene',\n",
       "       'Beryllium Compounds', 'Cadmium Compounds', 'Carbon Dioxide',\n",
       "       'Carbon Monoxide', 'Carbon Tetrachloride', 'Chlorobenzene',\n",
       "       'Chloroform', 'Chromium Compounds', 'Cobalt Compounds', 'Cumene',\n",
       "       'Ethyl Chloride', 'Ethylbenzene', 'Formaldehyde', 'Hexane',\n",
       "       'Lead Compounds', 'Manganese Compounds', 'Mercury Compounds', 'Methane',\n",
       "       'Methanol', 'Methyl Isobutyl Ketone', 'Methylene Chloride',\n",
       "       'Naphthalene', 'Nickel Compounds', 'Nitrogen Oxides', 'Nitrous Oxide',\n",
       "       'PM10 Primary (Filt + Cond)', 'PM2.5 Primary (Filt + Cond)', 'Phenol',\n",
       "       'Polycyclic Organic Matter', 'Propionaldehyde', 'Selenium Compounds',\n",
       "       'Styrene', 'Sulfur Dioxide', 'Toluene', 'Vinyl Chloride',\n",
       "       'Volatile Organic Compounds', 'Xylenes (Mixed Isomers)', 'BiasTerm'],\n",
       "      dtype='object')"
      ]
     },
     "execution_count": 36,
     "metadata": {},
     "output_type": "execute_result"
    }
   ],
   "source": [
    "shap_values = saved_model.predict_contributions(test)\n",
    "shap_df = shap_values.as_data_frame()\n",
    "shap_df.columns"
   ]
  },
  {
   "cell_type": "code",
   "execution_count": 40,
   "metadata": {},
   "outputs": [],
   "source": [
    "import shap"
   ]
  },
  {
   "cell_type": "code",
   "execution_count": null,
   "metadata": {},
   "outputs": [],
   "source": [
    "shap_values_array = shap_df.drop(\"BiasTerm\", axis=1).values  # Drop BiasTerm column if present\n",
    "\n",
    "# Create a SHAP Explanation object\n",
    "shap_values = shap.Explanation(\n",
    "    values=shap_values_array, \n",
    "    base_values=shap_df[\"BiasTerm\"].values, \n",
    "    data=test_x.values, \n",
    "    feature_names=test_x.columns\n",
    ")"
   ]
  },
  {
   "cell_type": "code",
   "execution_count": 48,
   "metadata": {},
   "outputs": [
    {
     "ename": "IndexError",
     "evalue": "only integers, slices (`:`), ellipsis (`...`), numpy.newaxis (`None`) and integer or boolean arrays are valid indices",
     "output_type": "error",
     "traceback": [
      "\u001b[1;31m---------------------------------------------------------------------------\u001b[0m",
      "\u001b[1;31mIndexError\u001b[0m                                Traceback (most recent call last)",
      "Cell \u001b[1;32mIn[48], line 8\u001b[0m\n\u001b[0;32m      5\u001b[0m feature_index \u001b[38;5;241m=\u001b[39m feature_names_list\u001b[38;5;241m.\u001b[39mindex(\u001b[38;5;124m\"\u001b[39m\u001b[38;5;124mVolatile Organic Compounds\u001b[39m\u001b[38;5;124m\"\u001b[39m)\n\u001b[0;32m      7\u001b[0m \u001b[38;5;66;03m# Use the feature index in the scatter plot\u001b[39;00m\n\u001b[1;32m----> 8\u001b[0m shap\u001b[38;5;241m.\u001b[39mplots\u001b[38;5;241m.\u001b[39mscatter(\u001b[43mshap_values\u001b[49m\u001b[43m[\u001b[49m\u001b[43m:\u001b[49m\u001b[43m,\u001b[49m\u001b[43m \u001b[49m\u001b[38;5;124;43m\"\u001b[39;49m\u001b[38;5;124;43mVolatile Organic Compounds\u001b[39;49m\u001b[38;5;124;43m\"\u001b[39;49m\u001b[43m]\u001b[49m, color\u001b[38;5;241m=\u001b[39mshap_values)\n",
      "File \u001b[1;32mc:\\Users\\Paul\\anaconda3\\envs\\h2o\\Lib\\site-packages\\shap\\_explanation.py:391\u001b[0m, in \u001b[0;36mExplanation.__getitem__\u001b[1;34m(self, item)\u001b[0m\n\u001b[0;32m    389\u001b[0m \u001b[38;5;28;01mif\u001b[39;00m new_self \u001b[38;5;129;01mis\u001b[39;00m \u001b[38;5;28;01mNone\u001b[39;00m:\n\u001b[0;32m    390\u001b[0m     new_self \u001b[38;5;241m=\u001b[39m copy\u001b[38;5;241m.\u001b[39mcopy(\u001b[38;5;28mself\u001b[39m)\n\u001b[1;32m--> 391\u001b[0m new_self\u001b[38;5;241m.\u001b[39m_s \u001b[38;5;241m=\u001b[39m \u001b[43mnew_self\u001b[49m\u001b[38;5;241;43m.\u001b[39;49m\u001b[43m_s\u001b[49m\u001b[38;5;241;43m.\u001b[39;49m\u001b[38;5;21;43m__getitem__\u001b[39;49m\u001b[43m(\u001b[49m\u001b[43mitem\u001b[49m\u001b[43m)\u001b[49m\n\u001b[0;32m    392\u001b[0m new_self\u001b[38;5;241m.\u001b[39mop_history\u001b[38;5;241m.\u001b[39mappend({\n\u001b[0;32m    393\u001b[0m     \u001b[38;5;124m\"\u001b[39m\u001b[38;5;124mname\u001b[39m\u001b[38;5;124m\"\u001b[39m: \u001b[38;5;124m\"\u001b[39m\u001b[38;5;124m__getitem__\u001b[39m\u001b[38;5;124m\"\u001b[39m,\n\u001b[0;32m    394\u001b[0m     \u001b[38;5;124m\"\u001b[39m\u001b[38;5;124margs\u001b[39m\u001b[38;5;124m\"\u001b[39m: (item,),\n\u001b[0;32m    395\u001b[0m     \u001b[38;5;124m\"\u001b[39m\u001b[38;5;124mprev_shape\u001b[39m\u001b[38;5;124m\"\u001b[39m: \u001b[38;5;28mself\u001b[39m\u001b[38;5;241m.\u001b[39mshape\n\u001b[0;32m    396\u001b[0m })\n\u001b[0;32m    398\u001b[0m \u001b[38;5;28;01mreturn\u001b[39;00m new_self\n",
      "File \u001b[1;32mc:\\Users\\Paul\\anaconda3\\envs\\h2o\\Lib\\site-packages\\slicer\\slicer.py:112\u001b[0m, in \u001b[0;36mSlicer.__getitem__\u001b[1;34m(self, item)\u001b[0m\n\u001b[0;32m    110\u001b[0m index_slicer \u001b[38;5;241m=\u001b[39m AtomicSlicer(index_tup, max_dim\u001b[38;5;241m=\u001b[39m\u001b[38;5;241m1\u001b[39m)\n\u001b[0;32m    111\u001b[0m slicer_index \u001b[38;5;241m=\u001b[39m index_slicer[tracked\u001b[38;5;241m.\u001b[39mdim]\n\u001b[1;32m--> 112\u001b[0m sliced_o \u001b[38;5;241m=\u001b[39m \u001b[43mtracked\u001b[49m\u001b[43m[\u001b[49m\u001b[43mslicer_index\u001b[49m\u001b[43m]\u001b[49m\n\u001b[0;32m    113\u001b[0m sliced_dim \u001b[38;5;241m=\u001b[39m resolve_dim(index_tup, tracked\u001b[38;5;241m.\u001b[39mdim)\n\u001b[0;32m    115\u001b[0m new_tracked \u001b[38;5;241m=\u001b[39m tracked\u001b[38;5;241m.\u001b[39m\u001b[38;5;18m__class__\u001b[39m(sliced_o, sliced_dim)\n",
      "File \u001b[1;32mc:\\Users\\Paul\\anaconda3\\envs\\h2o\\Lib\\site-packages\\slicer\\slicer_internal.py:69\u001b[0m, in \u001b[0;36mAtomicSlicer.__getitem__\u001b[1;34m(self, item)\u001b[0m\n\u001b[0;32m     66\u001b[0m index_tup \u001b[38;5;241m=\u001b[39m unify_slice(item, \u001b[38;5;28mself\u001b[39m\u001b[38;5;241m.\u001b[39mmax_dim)\n\u001b[0;32m     68\u001b[0m \u001b[38;5;66;03m# Slice according to object type.\u001b[39;00m\n\u001b[1;32m---> 69\u001b[0m \u001b[38;5;28;01mreturn\u001b[39;00m \u001b[43mUnifiedDataHandler\u001b[49m\u001b[38;5;241;43m.\u001b[39;49m\u001b[43mslice\u001b[49m\u001b[43m(\u001b[49m\u001b[38;5;28;43mself\u001b[39;49m\u001b[38;5;241;43m.\u001b[39;49m\u001b[43mo\u001b[49m\u001b[43m,\u001b[49m\u001b[43m \u001b[49m\u001b[43mindex_tup\u001b[49m\u001b[43m,\u001b[49m\u001b[43m \u001b[49m\u001b[38;5;28;43mself\u001b[39;49m\u001b[38;5;241;43m.\u001b[39;49m\u001b[43mmax_dim\u001b[49m\u001b[43m)\u001b[49m\n",
      "File \u001b[1;32mc:\\Users\\Paul\\anaconda3\\envs\\h2o\\Lib\\site-packages\\slicer\\slicer_internal.py:589\u001b[0m, in \u001b[0;36mUnifiedDataHandler.slice\u001b[1;34m(cls, o, index_tup, max_dim)\u001b[0m\n\u001b[0;32m    586\u001b[0m tail_slice \u001b[38;5;241m=\u001b[39m \u001b[38;5;28mcls\u001b[39m\u001b[38;5;241m.\u001b[39mtype_map[o_type]\u001b[38;5;241m.\u001b[39mtail_slice\n\u001b[0;32m    588\u001b[0m is_element, sliced_o, cut \u001b[38;5;241m=\u001b[39m head_slice(o, index_tup, max_dim)\n\u001b[1;32m--> 589\u001b[0m out \u001b[38;5;241m=\u001b[39m \u001b[43mtail_slice\u001b[49m\u001b[43m(\u001b[49m\u001b[43msliced_o\u001b[49m\u001b[43m,\u001b[49m\u001b[43m \u001b[49m\u001b[43mindex_tup\u001b[49m\u001b[43m[\u001b[49m\u001b[43mcut\u001b[49m\u001b[43m:\u001b[49m\u001b[43m]\u001b[49m\u001b[43m,\u001b[49m\u001b[43m \u001b[49m\u001b[43mmax_dim\u001b[49m\u001b[43m \u001b[49m\u001b[38;5;241;43m-\u001b[39;49m\u001b[43m \u001b[49m\u001b[43mcut\u001b[49m\u001b[43m,\u001b[49m\u001b[43m \u001b[49m\u001b[43mis_element\u001b[49m\u001b[43m)\u001b[49m\n\u001b[0;32m    590\u001b[0m \u001b[38;5;28;01mreturn\u001b[39;00m out\n",
      "File \u001b[1;32mc:\\Users\\Paul\\anaconda3\\envs\\h2o\\Lib\\site-packages\\slicer\\slicer_internal.py:439\u001b[0m, in \u001b[0;36mArrayHandler.tail_slice\u001b[1;34m(cls, o, tail_index, max_dim, flatten)\u001b[0m\n\u001b[0;32m    437\u001b[0m         \u001b[38;5;28;01mreturn\u001b[39;00m AtomicSlicer(o, max_dim\u001b[38;5;241m=\u001b[39mmax_dim)[tail_index]\n\u001b[0;32m    438\u001b[0m \u001b[38;5;28;01melse\u001b[39;00m:\n\u001b[1;32m--> 439\u001b[0m     inner \u001b[38;5;241m=\u001b[39m \u001b[43m[\u001b[49m\u001b[43mAtomicSlicer\u001b[49m\u001b[43m(\u001b[49m\u001b[43me\u001b[49m\u001b[43m,\u001b[49m\u001b[43m \u001b[49m\u001b[43mmax_dim\u001b[49m\u001b[38;5;241;43m=\u001b[39;49m\u001b[43mmax_dim\u001b[49m\u001b[43m)\u001b[49m\u001b[43m[\u001b[49m\u001b[43mtail_index\u001b[49m\u001b[43m]\u001b[49m\u001b[43m \u001b[49m\u001b[38;5;28;43;01mfor\u001b[39;49;00m\u001b[43m \u001b[49m\u001b[43me\u001b[49m\u001b[43m \u001b[49m\u001b[38;5;129;43;01min\u001b[39;49;00m\u001b[43m \u001b[49m\u001b[43mo\u001b[49m\u001b[43m]\u001b[49m\n\u001b[0;32m    440\u001b[0m     \u001b[38;5;28;01mif\u001b[39;00m _safe_isinstance(o, \u001b[38;5;124m\"\u001b[39m\u001b[38;5;124mnumpy\u001b[39m\u001b[38;5;124m\"\u001b[39m, \u001b[38;5;124m\"\u001b[39m\u001b[38;5;124mndarray\u001b[39m\u001b[38;5;124m\"\u001b[39m):\n\u001b[0;32m    441\u001b[0m         \u001b[38;5;28;01mimport\u001b[39;00m \u001b[38;5;21;01mnumpy\u001b[39;00m\n",
      "File \u001b[1;32mc:\\Users\\Paul\\anaconda3\\envs\\h2o\\Lib\\site-packages\\slicer\\slicer_internal.py:439\u001b[0m, in \u001b[0;36m<listcomp>\u001b[1;34m(.0)\u001b[0m\n\u001b[0;32m    437\u001b[0m         \u001b[38;5;28;01mreturn\u001b[39;00m AtomicSlicer(o, max_dim\u001b[38;5;241m=\u001b[39mmax_dim)[tail_index]\n\u001b[0;32m    438\u001b[0m \u001b[38;5;28;01melse\u001b[39;00m:\n\u001b[1;32m--> 439\u001b[0m     inner \u001b[38;5;241m=\u001b[39m [\u001b[43mAtomicSlicer\u001b[49m\u001b[43m(\u001b[49m\u001b[43me\u001b[49m\u001b[43m,\u001b[49m\u001b[43m \u001b[49m\u001b[43mmax_dim\u001b[49m\u001b[38;5;241;43m=\u001b[39;49m\u001b[43mmax_dim\u001b[49m\u001b[43m)\u001b[49m\u001b[43m[\u001b[49m\u001b[43mtail_index\u001b[49m\u001b[43m]\u001b[49m \u001b[38;5;28;01mfor\u001b[39;00m e \u001b[38;5;129;01min\u001b[39;00m o]\n\u001b[0;32m    440\u001b[0m     \u001b[38;5;28;01mif\u001b[39;00m _safe_isinstance(o, \u001b[38;5;124m\"\u001b[39m\u001b[38;5;124mnumpy\u001b[39m\u001b[38;5;124m\"\u001b[39m, \u001b[38;5;124m\"\u001b[39m\u001b[38;5;124mndarray\u001b[39m\u001b[38;5;124m\"\u001b[39m):\n\u001b[0;32m    441\u001b[0m         \u001b[38;5;28;01mimport\u001b[39;00m \u001b[38;5;21;01mnumpy\u001b[39;00m\n",
      "File \u001b[1;32mc:\\Users\\Paul\\anaconda3\\envs\\h2o\\Lib\\site-packages\\slicer\\slicer_internal.py:69\u001b[0m, in \u001b[0;36mAtomicSlicer.__getitem__\u001b[1;34m(self, item)\u001b[0m\n\u001b[0;32m     66\u001b[0m index_tup \u001b[38;5;241m=\u001b[39m unify_slice(item, \u001b[38;5;28mself\u001b[39m\u001b[38;5;241m.\u001b[39mmax_dim)\n\u001b[0;32m     68\u001b[0m \u001b[38;5;66;03m# Slice according to object type.\u001b[39;00m\n\u001b[1;32m---> 69\u001b[0m \u001b[38;5;28;01mreturn\u001b[39;00m \u001b[43mUnifiedDataHandler\u001b[49m\u001b[38;5;241;43m.\u001b[39;49m\u001b[43mslice\u001b[49m\u001b[43m(\u001b[49m\u001b[38;5;28;43mself\u001b[39;49m\u001b[38;5;241;43m.\u001b[39;49m\u001b[43mo\u001b[49m\u001b[43m,\u001b[49m\u001b[43m \u001b[49m\u001b[43mindex_tup\u001b[49m\u001b[43m,\u001b[49m\u001b[43m \u001b[49m\u001b[38;5;28;43mself\u001b[39;49m\u001b[38;5;241;43m.\u001b[39;49m\u001b[43mmax_dim\u001b[49m\u001b[43m)\u001b[49m\n",
      "File \u001b[1;32mc:\\Users\\Paul\\anaconda3\\envs\\h2o\\Lib\\site-packages\\slicer\\slicer_internal.py:588\u001b[0m, in \u001b[0;36mUnifiedDataHandler.slice\u001b[1;34m(cls, o, index_tup, max_dim)\u001b[0m\n\u001b[0;32m    585\u001b[0m head_slice \u001b[38;5;241m=\u001b[39m \u001b[38;5;28mcls\u001b[39m\u001b[38;5;241m.\u001b[39mtype_map[o_type]\u001b[38;5;241m.\u001b[39mhead_slice\n\u001b[0;32m    586\u001b[0m tail_slice \u001b[38;5;241m=\u001b[39m \u001b[38;5;28mcls\u001b[39m\u001b[38;5;241m.\u001b[39mtype_map[o_type]\u001b[38;5;241m.\u001b[39mtail_slice\n\u001b[1;32m--> 588\u001b[0m is_element, sliced_o, cut \u001b[38;5;241m=\u001b[39m \u001b[43mhead_slice\u001b[49m\u001b[43m(\u001b[49m\u001b[43mo\u001b[49m\u001b[43m,\u001b[49m\u001b[43m \u001b[49m\u001b[43mindex_tup\u001b[49m\u001b[43m,\u001b[49m\u001b[43m \u001b[49m\u001b[43mmax_dim\u001b[49m\u001b[43m)\u001b[49m\n\u001b[0;32m    589\u001b[0m out \u001b[38;5;241m=\u001b[39m tail_slice(sliced_o, index_tup[cut:], max_dim \u001b[38;5;241m-\u001b[39m cut, is_element)\n\u001b[0;32m    590\u001b[0m \u001b[38;5;28;01mreturn\u001b[39;00m out\n",
      "File \u001b[1;32mc:\\Users\\Paul\\anaconda3\\envs\\h2o\\Lib\\site-packages\\slicer\\slicer_internal.py:418\u001b[0m, in \u001b[0;36mArrayHandler.head_slice\u001b[1;34m(cls, o, index_tup, max_dim)\u001b[0m\n\u001b[0;32m    416\u001b[0m cut_index \u001b[38;5;241m=\u001b[39m index_tup[:cut]\n\u001b[0;32m    417\u001b[0m is_element \u001b[38;5;241m=\u001b[39m \u001b[38;5;28many\u001b[39m([\u001b[38;5;28;01mTrue\u001b[39;00m \u001b[38;5;28;01mif\u001b[39;00m \u001b[38;5;28misinstance\u001b[39m(x, \u001b[38;5;28mint\u001b[39m) \u001b[38;5;28;01melse\u001b[39;00m \u001b[38;5;28;01mFalse\u001b[39;00m \u001b[38;5;28;01mfor\u001b[39;00m x \u001b[38;5;129;01min\u001b[39;00m cut_index])\n\u001b[1;32m--> 418\u001b[0m sliced_o \u001b[38;5;241m=\u001b[39m \u001b[43mo\u001b[49m\u001b[43m[\u001b[49m\u001b[43mcut_index\u001b[49m\u001b[43m]\u001b[49m\n\u001b[0;32m    420\u001b[0m \u001b[38;5;28;01mreturn\u001b[39;00m is_element, sliced_o, cut\n",
      "\u001b[1;31mIndexError\u001b[0m: only integers, slices (`:`), ellipsis (`...`), numpy.newaxis (`None`) and integer or boolean arrays are valid indices"
     ]
    }
   ],
   "source": [
    "# Convert feature names to a list\n",
    "feature_names_list = list(shap_values.feature_names)\n",
    "\n",
    "# Find the index of the desired feature\n",
    "feature_index = feature_names_list.index(\"Volatile Organic Compounds\")\n",
    "\n",
    "# Use the feature index in the scatter plot\n",
    "shap.plots.scatter(shap_values[:, \"Volatile Organic Compounds\"], color=shap_values)"
   ]
  },
  {
   "cell_type": "code",
   "execution_count": 49,
   "metadata": {},
   "outputs": [
    {
     "ename": "IndexError",
     "evalue": "only integers, slices (`:`), ellipsis (`...`), numpy.newaxis (`None`) and integer or boolean arrays are valid indices",
     "output_type": "error",
     "traceback": [
      "\u001b[1;31m---------------------------------------------------------------------------\u001b[0m",
      "\u001b[1;31mIndexError\u001b[0m                                Traceback (most recent call last)",
      "Cell \u001b[1;32mIn[49], line 1\u001b[0m\n\u001b[1;32m----> 1\u001b[0m shap\u001b[38;5;241m.\u001b[39mplots\u001b[38;5;241m.\u001b[39mscatter(\u001b[43mshap_values\u001b[49m\u001b[43m[\u001b[49m\u001b[43m:\u001b[49m\u001b[43m,\u001b[49m\u001b[43m \u001b[49m\u001b[38;5;124;43m\"\u001b[39;49m\u001b[38;5;124;43mVolatile Organic Compounds\u001b[39;49m\u001b[38;5;124;43m\"\u001b[39;49m\u001b[43m]\u001b[49m, color\u001b[38;5;241m=\u001b[39mshap_values)\n",
      "File \u001b[1;32mc:\\Users\\Paul\\anaconda3\\envs\\h2o\\Lib\\site-packages\\shap\\_explanation.py:391\u001b[0m, in \u001b[0;36mExplanation.__getitem__\u001b[1;34m(self, item)\u001b[0m\n\u001b[0;32m    389\u001b[0m \u001b[38;5;28;01mif\u001b[39;00m new_self \u001b[38;5;129;01mis\u001b[39;00m \u001b[38;5;28;01mNone\u001b[39;00m:\n\u001b[0;32m    390\u001b[0m     new_self \u001b[38;5;241m=\u001b[39m copy\u001b[38;5;241m.\u001b[39mcopy(\u001b[38;5;28mself\u001b[39m)\n\u001b[1;32m--> 391\u001b[0m new_self\u001b[38;5;241m.\u001b[39m_s \u001b[38;5;241m=\u001b[39m \u001b[43mnew_self\u001b[49m\u001b[38;5;241;43m.\u001b[39;49m\u001b[43m_s\u001b[49m\u001b[38;5;241;43m.\u001b[39;49m\u001b[38;5;21;43m__getitem__\u001b[39;49m\u001b[43m(\u001b[49m\u001b[43mitem\u001b[49m\u001b[43m)\u001b[49m\n\u001b[0;32m    392\u001b[0m new_self\u001b[38;5;241m.\u001b[39mop_history\u001b[38;5;241m.\u001b[39mappend({\n\u001b[0;32m    393\u001b[0m     \u001b[38;5;124m\"\u001b[39m\u001b[38;5;124mname\u001b[39m\u001b[38;5;124m\"\u001b[39m: \u001b[38;5;124m\"\u001b[39m\u001b[38;5;124m__getitem__\u001b[39m\u001b[38;5;124m\"\u001b[39m,\n\u001b[0;32m    394\u001b[0m     \u001b[38;5;124m\"\u001b[39m\u001b[38;5;124margs\u001b[39m\u001b[38;5;124m\"\u001b[39m: (item,),\n\u001b[0;32m    395\u001b[0m     \u001b[38;5;124m\"\u001b[39m\u001b[38;5;124mprev_shape\u001b[39m\u001b[38;5;124m\"\u001b[39m: \u001b[38;5;28mself\u001b[39m\u001b[38;5;241m.\u001b[39mshape\n\u001b[0;32m    396\u001b[0m })\n\u001b[0;32m    398\u001b[0m \u001b[38;5;28;01mreturn\u001b[39;00m new_self\n",
      "File \u001b[1;32mc:\\Users\\Paul\\anaconda3\\envs\\h2o\\Lib\\site-packages\\slicer\\slicer.py:112\u001b[0m, in \u001b[0;36mSlicer.__getitem__\u001b[1;34m(self, item)\u001b[0m\n\u001b[0;32m    110\u001b[0m index_slicer \u001b[38;5;241m=\u001b[39m AtomicSlicer(index_tup, max_dim\u001b[38;5;241m=\u001b[39m\u001b[38;5;241m1\u001b[39m)\n\u001b[0;32m    111\u001b[0m slicer_index \u001b[38;5;241m=\u001b[39m index_slicer[tracked\u001b[38;5;241m.\u001b[39mdim]\n\u001b[1;32m--> 112\u001b[0m sliced_o \u001b[38;5;241m=\u001b[39m \u001b[43mtracked\u001b[49m\u001b[43m[\u001b[49m\u001b[43mslicer_index\u001b[49m\u001b[43m]\u001b[49m\n\u001b[0;32m    113\u001b[0m sliced_dim \u001b[38;5;241m=\u001b[39m resolve_dim(index_tup, tracked\u001b[38;5;241m.\u001b[39mdim)\n\u001b[0;32m    115\u001b[0m new_tracked \u001b[38;5;241m=\u001b[39m tracked\u001b[38;5;241m.\u001b[39m\u001b[38;5;18m__class__\u001b[39m(sliced_o, sliced_dim)\n",
      "File \u001b[1;32mc:\\Users\\Paul\\anaconda3\\envs\\h2o\\Lib\\site-packages\\slicer\\slicer_internal.py:69\u001b[0m, in \u001b[0;36mAtomicSlicer.__getitem__\u001b[1;34m(self, item)\u001b[0m\n\u001b[0;32m     66\u001b[0m index_tup \u001b[38;5;241m=\u001b[39m unify_slice(item, \u001b[38;5;28mself\u001b[39m\u001b[38;5;241m.\u001b[39mmax_dim)\n\u001b[0;32m     68\u001b[0m \u001b[38;5;66;03m# Slice according to object type.\u001b[39;00m\n\u001b[1;32m---> 69\u001b[0m \u001b[38;5;28;01mreturn\u001b[39;00m \u001b[43mUnifiedDataHandler\u001b[49m\u001b[38;5;241;43m.\u001b[39;49m\u001b[43mslice\u001b[49m\u001b[43m(\u001b[49m\u001b[38;5;28;43mself\u001b[39;49m\u001b[38;5;241;43m.\u001b[39;49m\u001b[43mo\u001b[49m\u001b[43m,\u001b[49m\u001b[43m \u001b[49m\u001b[43mindex_tup\u001b[49m\u001b[43m,\u001b[49m\u001b[43m \u001b[49m\u001b[38;5;28;43mself\u001b[39;49m\u001b[38;5;241;43m.\u001b[39;49m\u001b[43mmax_dim\u001b[49m\u001b[43m)\u001b[49m\n",
      "File \u001b[1;32mc:\\Users\\Paul\\anaconda3\\envs\\h2o\\Lib\\site-packages\\slicer\\slicer_internal.py:589\u001b[0m, in \u001b[0;36mUnifiedDataHandler.slice\u001b[1;34m(cls, o, index_tup, max_dim)\u001b[0m\n\u001b[0;32m    586\u001b[0m tail_slice \u001b[38;5;241m=\u001b[39m \u001b[38;5;28mcls\u001b[39m\u001b[38;5;241m.\u001b[39mtype_map[o_type]\u001b[38;5;241m.\u001b[39mtail_slice\n\u001b[0;32m    588\u001b[0m is_element, sliced_o, cut \u001b[38;5;241m=\u001b[39m head_slice(o, index_tup, max_dim)\n\u001b[1;32m--> 589\u001b[0m out \u001b[38;5;241m=\u001b[39m \u001b[43mtail_slice\u001b[49m\u001b[43m(\u001b[49m\u001b[43msliced_o\u001b[49m\u001b[43m,\u001b[49m\u001b[43m \u001b[49m\u001b[43mindex_tup\u001b[49m\u001b[43m[\u001b[49m\u001b[43mcut\u001b[49m\u001b[43m:\u001b[49m\u001b[43m]\u001b[49m\u001b[43m,\u001b[49m\u001b[43m \u001b[49m\u001b[43mmax_dim\u001b[49m\u001b[43m \u001b[49m\u001b[38;5;241;43m-\u001b[39;49m\u001b[43m \u001b[49m\u001b[43mcut\u001b[49m\u001b[43m,\u001b[49m\u001b[43m \u001b[49m\u001b[43mis_element\u001b[49m\u001b[43m)\u001b[49m\n\u001b[0;32m    590\u001b[0m \u001b[38;5;28;01mreturn\u001b[39;00m out\n",
      "File \u001b[1;32mc:\\Users\\Paul\\anaconda3\\envs\\h2o\\Lib\\site-packages\\slicer\\slicer_internal.py:439\u001b[0m, in \u001b[0;36mArrayHandler.tail_slice\u001b[1;34m(cls, o, tail_index, max_dim, flatten)\u001b[0m\n\u001b[0;32m    437\u001b[0m         \u001b[38;5;28;01mreturn\u001b[39;00m AtomicSlicer(o, max_dim\u001b[38;5;241m=\u001b[39mmax_dim)[tail_index]\n\u001b[0;32m    438\u001b[0m \u001b[38;5;28;01melse\u001b[39;00m:\n\u001b[1;32m--> 439\u001b[0m     inner \u001b[38;5;241m=\u001b[39m \u001b[43m[\u001b[49m\u001b[43mAtomicSlicer\u001b[49m\u001b[43m(\u001b[49m\u001b[43me\u001b[49m\u001b[43m,\u001b[49m\u001b[43m \u001b[49m\u001b[43mmax_dim\u001b[49m\u001b[38;5;241;43m=\u001b[39;49m\u001b[43mmax_dim\u001b[49m\u001b[43m)\u001b[49m\u001b[43m[\u001b[49m\u001b[43mtail_index\u001b[49m\u001b[43m]\u001b[49m\u001b[43m \u001b[49m\u001b[38;5;28;43;01mfor\u001b[39;49;00m\u001b[43m \u001b[49m\u001b[43me\u001b[49m\u001b[43m \u001b[49m\u001b[38;5;129;43;01min\u001b[39;49;00m\u001b[43m \u001b[49m\u001b[43mo\u001b[49m\u001b[43m]\u001b[49m\n\u001b[0;32m    440\u001b[0m     \u001b[38;5;28;01mif\u001b[39;00m _safe_isinstance(o, \u001b[38;5;124m\"\u001b[39m\u001b[38;5;124mnumpy\u001b[39m\u001b[38;5;124m\"\u001b[39m, \u001b[38;5;124m\"\u001b[39m\u001b[38;5;124mndarray\u001b[39m\u001b[38;5;124m\"\u001b[39m):\n\u001b[0;32m    441\u001b[0m         \u001b[38;5;28;01mimport\u001b[39;00m \u001b[38;5;21;01mnumpy\u001b[39;00m\n",
      "File \u001b[1;32mc:\\Users\\Paul\\anaconda3\\envs\\h2o\\Lib\\site-packages\\slicer\\slicer_internal.py:439\u001b[0m, in \u001b[0;36m<listcomp>\u001b[1;34m(.0)\u001b[0m\n\u001b[0;32m    437\u001b[0m         \u001b[38;5;28;01mreturn\u001b[39;00m AtomicSlicer(o, max_dim\u001b[38;5;241m=\u001b[39mmax_dim)[tail_index]\n\u001b[0;32m    438\u001b[0m \u001b[38;5;28;01melse\u001b[39;00m:\n\u001b[1;32m--> 439\u001b[0m     inner \u001b[38;5;241m=\u001b[39m [\u001b[43mAtomicSlicer\u001b[49m\u001b[43m(\u001b[49m\u001b[43me\u001b[49m\u001b[43m,\u001b[49m\u001b[43m \u001b[49m\u001b[43mmax_dim\u001b[49m\u001b[38;5;241;43m=\u001b[39;49m\u001b[43mmax_dim\u001b[49m\u001b[43m)\u001b[49m\u001b[43m[\u001b[49m\u001b[43mtail_index\u001b[49m\u001b[43m]\u001b[49m \u001b[38;5;28;01mfor\u001b[39;00m e \u001b[38;5;129;01min\u001b[39;00m o]\n\u001b[0;32m    440\u001b[0m     \u001b[38;5;28;01mif\u001b[39;00m _safe_isinstance(o, \u001b[38;5;124m\"\u001b[39m\u001b[38;5;124mnumpy\u001b[39m\u001b[38;5;124m\"\u001b[39m, \u001b[38;5;124m\"\u001b[39m\u001b[38;5;124mndarray\u001b[39m\u001b[38;5;124m\"\u001b[39m):\n\u001b[0;32m    441\u001b[0m         \u001b[38;5;28;01mimport\u001b[39;00m \u001b[38;5;21;01mnumpy\u001b[39;00m\n",
      "File \u001b[1;32mc:\\Users\\Paul\\anaconda3\\envs\\h2o\\Lib\\site-packages\\slicer\\slicer_internal.py:69\u001b[0m, in \u001b[0;36mAtomicSlicer.__getitem__\u001b[1;34m(self, item)\u001b[0m\n\u001b[0;32m     66\u001b[0m index_tup \u001b[38;5;241m=\u001b[39m unify_slice(item, \u001b[38;5;28mself\u001b[39m\u001b[38;5;241m.\u001b[39mmax_dim)\n\u001b[0;32m     68\u001b[0m \u001b[38;5;66;03m# Slice according to object type.\u001b[39;00m\n\u001b[1;32m---> 69\u001b[0m \u001b[38;5;28;01mreturn\u001b[39;00m \u001b[43mUnifiedDataHandler\u001b[49m\u001b[38;5;241;43m.\u001b[39;49m\u001b[43mslice\u001b[49m\u001b[43m(\u001b[49m\u001b[38;5;28;43mself\u001b[39;49m\u001b[38;5;241;43m.\u001b[39;49m\u001b[43mo\u001b[49m\u001b[43m,\u001b[49m\u001b[43m \u001b[49m\u001b[43mindex_tup\u001b[49m\u001b[43m,\u001b[49m\u001b[43m \u001b[49m\u001b[38;5;28;43mself\u001b[39;49m\u001b[38;5;241;43m.\u001b[39;49m\u001b[43mmax_dim\u001b[49m\u001b[43m)\u001b[49m\n",
      "File \u001b[1;32mc:\\Users\\Paul\\anaconda3\\envs\\h2o\\Lib\\site-packages\\slicer\\slicer_internal.py:588\u001b[0m, in \u001b[0;36mUnifiedDataHandler.slice\u001b[1;34m(cls, o, index_tup, max_dim)\u001b[0m\n\u001b[0;32m    585\u001b[0m head_slice \u001b[38;5;241m=\u001b[39m \u001b[38;5;28mcls\u001b[39m\u001b[38;5;241m.\u001b[39mtype_map[o_type]\u001b[38;5;241m.\u001b[39mhead_slice\n\u001b[0;32m    586\u001b[0m tail_slice \u001b[38;5;241m=\u001b[39m \u001b[38;5;28mcls\u001b[39m\u001b[38;5;241m.\u001b[39mtype_map[o_type]\u001b[38;5;241m.\u001b[39mtail_slice\n\u001b[1;32m--> 588\u001b[0m is_element, sliced_o, cut \u001b[38;5;241m=\u001b[39m \u001b[43mhead_slice\u001b[49m\u001b[43m(\u001b[49m\u001b[43mo\u001b[49m\u001b[43m,\u001b[49m\u001b[43m \u001b[49m\u001b[43mindex_tup\u001b[49m\u001b[43m,\u001b[49m\u001b[43m \u001b[49m\u001b[43mmax_dim\u001b[49m\u001b[43m)\u001b[49m\n\u001b[0;32m    589\u001b[0m out \u001b[38;5;241m=\u001b[39m tail_slice(sliced_o, index_tup[cut:], max_dim \u001b[38;5;241m-\u001b[39m cut, is_element)\n\u001b[0;32m    590\u001b[0m \u001b[38;5;28;01mreturn\u001b[39;00m out\n",
      "File \u001b[1;32mc:\\Users\\Paul\\anaconda3\\envs\\h2o\\Lib\\site-packages\\slicer\\slicer_internal.py:418\u001b[0m, in \u001b[0;36mArrayHandler.head_slice\u001b[1;34m(cls, o, index_tup, max_dim)\u001b[0m\n\u001b[0;32m    416\u001b[0m cut_index \u001b[38;5;241m=\u001b[39m index_tup[:cut]\n\u001b[0;32m    417\u001b[0m is_element \u001b[38;5;241m=\u001b[39m \u001b[38;5;28many\u001b[39m([\u001b[38;5;28;01mTrue\u001b[39;00m \u001b[38;5;28;01mif\u001b[39;00m \u001b[38;5;28misinstance\u001b[39m(x, \u001b[38;5;28mint\u001b[39m) \u001b[38;5;28;01melse\u001b[39;00m \u001b[38;5;28;01mFalse\u001b[39;00m \u001b[38;5;28;01mfor\u001b[39;00m x \u001b[38;5;129;01min\u001b[39;00m cut_index])\n\u001b[1;32m--> 418\u001b[0m sliced_o \u001b[38;5;241m=\u001b[39m \u001b[43mo\u001b[49m\u001b[43m[\u001b[49m\u001b[43mcut_index\u001b[49m\u001b[43m]\u001b[49m\n\u001b[0;32m    420\u001b[0m \u001b[38;5;28;01mreturn\u001b[39;00m is_element, sliced_o, cut\n",
      "\u001b[1;31mIndexError\u001b[0m: only integers, slices (`:`), ellipsis (`...`), numpy.newaxis (`None`) and integer or boolean arrays are valid indices"
     ]
    }
   ],
   "source": [
    "shap.plots.scatter(shap_values[:, \"Volatile Organic Compounds\"], color=shap_values)"
   ]
  },
  {
   "cell_type": "code",
   "execution_count": null,
   "metadata": {},
   "outputs": [],
   "source": [
    "shap.dependence_plot(\"Volatile Organic Compounds\", shap_values, test_x)"
   ]
  },
  {
   "cell_type": "markdown",
   "metadata": {},
   "source": [
    "## Failed Attempt\n",
    "It seems that the h2o library wasn't designed to be compatible with all the secondary features of the shap plot, such as the other types of shap plots, or even the fundamental way metadata/data is structured."
   ]
  },
  {
   "cell_type": "markdown",
   "metadata": {},
   "source": []
  }
 ],
 "metadata": {
  "kernelspec": {
   "display_name": "h2o",
   "language": "python",
   "name": "python3"
  },
  "language_info": {
   "codemirror_mode": {
    "name": "ipython",
    "version": 3
   },
   "file_extension": ".py",
   "mimetype": "text/x-python",
   "name": "python",
   "nbconvert_exporter": "python",
   "pygments_lexer": "ipython3",
   "version": "3.11.9"
  }
 },
 "nbformat": 4,
 "nbformat_minor": 2
}
