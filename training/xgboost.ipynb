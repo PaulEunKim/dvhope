{
 "cells": [
  {
   "cell_type": "code",
   "execution_count": 1,
   "metadata": {},
   "outputs": [
    {
     "name": "stdout",
     "output_type": "stream",
     "text": [
      "{'BUILTIN_PREFETCH_PRESENT': False, 'CUDA_VERSION': [11, 8], 'DEBUG': False, 'MM_PREFETCH_PRESENT': True, 'THRUST_VERSION': [1, 15, 1], 'USE_CUDA': True, 'USE_FEDERATED': False, 'USE_NCCL': False, 'USE_OPENMP': True, 'USE_RMM': False, 'libxgboost': 'c:\\\\Users\\\\Paul\\\\anaconda3\\\\envs\\\\dvhope-xgb2\\\\lib\\\\site-packages\\\\xgboost\\\\lib\\\\xgboost.dll'}\n"
     ]
    }
   ],
   "source": [
    "import xgboost\n",
    "\n",
    "print(xgboost.build_info())"
   ]
  },
  {
   "cell_type": "code",
   "execution_count": 2,
   "metadata": {},
   "outputs": [
    {
     "name": "stderr",
     "output_type": "stream",
     "text": [
      "2024-11-15 10:48:59,449\tINFO worker.py:1642 -- Started a local Ray instance.\n",
      "2024-11-15 10:49:00,847\tINFO tune.py:228 -- Initializing Ray automatically. For cluster usage or custom Ray initialization, call `ray.init(...)` before `tune.run(...)`.\n",
      "2024-11-15 10:49:00,848\tINFO tune.py:645 -- [output] This uses the legacy output and progress reporter, as Jupyter notebooks are not supported by the new engine, yet. For more information, please see https://github.com/ray-project/ray/issues/36949\n"
     ]
    },
    {
     "ename": "ValueError",
     "evalue": "BayesOpt does not support parameters of type `Integer`",
     "output_type": "error",
     "traceback": [
      "\u001b[1;31m---------------------------------------------------------------------------\u001b[0m",
      "\u001b[1;31mValueError\u001b[0m                                Traceback (most recent call last)",
      "Cell \u001b[1;32mIn[2], line 40\u001b[0m\n\u001b[0;32m     37\u001b[0m \u001b[38;5;66;03m# Create a Ray Tune experiment\u001b[39;00m\n\u001b[0;32m     38\u001b[0m bayesopt \u001b[38;5;241m=\u001b[39m BayesOptSearch(metric\u001b[38;5;241m=\u001b[39m\u001b[38;5;124m\"\u001b[39m\u001b[38;5;124maccuracy\u001b[39m\u001b[38;5;124m\"\u001b[39m, mode\u001b[38;5;241m=\u001b[39m\u001b[38;5;124m\"\u001b[39m\u001b[38;5;124mmax\u001b[39m\u001b[38;5;124m\"\u001b[39m)\n\u001b[1;32m---> 40\u001b[0m analysis \u001b[38;5;241m=\u001b[39m \u001b[43mtune\u001b[49m\u001b[38;5;241;43m.\u001b[39;49m\u001b[43mrun\u001b[49m\u001b[43m(\u001b[49m\n\u001b[0;32m     41\u001b[0m \u001b[43m    \u001b[49m\u001b[43mobjective\u001b[49m\u001b[43m,\u001b[49m\n\u001b[0;32m     42\u001b[0m \u001b[43m    \u001b[49m\u001b[43mconfig\u001b[49m\u001b[38;5;241;43m=\u001b[39;49m\u001b[43mconfig\u001b[49m\u001b[43m,\u001b[49m\n\u001b[0;32m     43\u001b[0m \u001b[43m    \u001b[49m\u001b[43msearch_alg\u001b[49m\u001b[38;5;241;43m=\u001b[39;49m\u001b[43mbayesopt\u001b[49m\u001b[43m,\u001b[49m\n\u001b[0;32m     44\u001b[0m \u001b[43m    \u001b[49m\u001b[43mnum_samples\u001b[49m\u001b[38;5;241;43m=\u001b[39;49m\u001b[38;5;241;43m50\u001b[39;49m\u001b[43m,\u001b[49m\n\u001b[0;32m     45\u001b[0m \u001b[43m    \u001b[49m\u001b[43mresources_per_trial\u001b[49m\u001b[38;5;241;43m=\u001b[39;49m\u001b[43m{\u001b[49m\u001b[38;5;124;43m\"\u001b[39;49m\u001b[38;5;124;43mcpu\u001b[39;49m\u001b[38;5;124;43m\"\u001b[39;49m\u001b[43m:\u001b[49m\u001b[43m \u001b[49m\u001b[38;5;241;43m2\u001b[39;49m\u001b[43m}\u001b[49m\u001b[43m,\u001b[49m\n\u001b[0;32m     46\u001b[0m \u001b[43m)\u001b[49m\n\u001b[0;32m     48\u001b[0m \u001b[38;5;66;03m# Get the best hyperparameters and corresponding accuracy\u001b[39;00m\n\u001b[0;32m     49\u001b[0m best_config \u001b[38;5;241m=\u001b[39m analysis\u001b[38;5;241m.\u001b[39mget_best_config(metric\u001b[38;5;241m=\u001b[39m\u001b[38;5;124m\"\u001b[39m\u001b[38;5;124maccuracy\u001b[39m\u001b[38;5;124m\"\u001b[39m, mode\u001b[38;5;241m=\u001b[39m\u001b[38;5;124m\"\u001b[39m\u001b[38;5;124mmax\u001b[39m\u001b[38;5;124m\"\u001b[39m)\n",
      "File \u001b[1;32mc:\\Users\\Paul\\anaconda3\\envs\\dvhope-xgb2\\lib\\site-packages\\ray\\tune\\tune.py:925\u001b[0m, in \u001b[0;36mrun\u001b[1;34m(run_or_experiment, name, metric, mode, stop, time_budget_s, config, resources_per_trial, num_samples, storage_path, storage_filesystem, search_alg, scheduler, checkpoint_config, verbose, progress_reporter, log_to_file, trial_name_creator, trial_dirname_creator, sync_config, export_formats, max_failures, fail_fast, restore, server_port, resume, reuse_actors, raise_on_failed_trial, callbacks, max_concurrent_trials, keep_checkpoints_num, checkpoint_score_attr, checkpoint_freq, checkpoint_at_end, chdir_to_trial_dir, local_dir, _experiment_checkpoint_dir, _remote, _remote_string_queue, _entrypoint)\u001b[0m\n\u001b[0;32m    922\u001b[0m \u001b[38;5;28;01mif\u001b[39;00m \u001b[38;5;28misinstance\u001b[39m(search_alg, Searcher):\n\u001b[0;32m    923\u001b[0m     search_alg \u001b[38;5;241m=\u001b[39m SearchGenerator(search_alg)\n\u001b[1;32m--> 925\u001b[0m \u001b[38;5;28;01mif\u001b[39;00m config \u001b[38;5;129;01mand\u001b[39;00m \u001b[38;5;129;01mnot\u001b[39;00m searcher_set_search_props(\n\u001b[0;32m    926\u001b[0m     search_alg\u001b[38;5;241m.\u001b[39mset_search_properties,\n\u001b[0;32m    927\u001b[0m     metric,\n\u001b[0;32m    928\u001b[0m     mode,\n\u001b[0;32m    929\u001b[0m     config,\n\u001b[0;32m    930\u001b[0m     \u001b[38;5;241m*\u001b[39m\u001b[38;5;241m*\u001b[39mexperiments[\u001b[38;5;241m0\u001b[39m]\u001b[38;5;241m.\u001b[39mpublic_spec,\n\u001b[0;32m    931\u001b[0m ):\n\u001b[0;32m    932\u001b[0m     \u001b[38;5;28;01mif\u001b[39;00m _has_unresolved_values(config):\n\u001b[0;32m    933\u001b[0m         \u001b[38;5;28;01mraise\u001b[39;00m \u001b[38;5;167;01mValueError\u001b[39;00m(\n\u001b[0;32m    934\u001b[0m             \u001b[38;5;124mf\u001b[39m\u001b[38;5;124m\"\u001b[39m\u001b[38;5;124mYou passed a `\u001b[39m\u001b[38;5;132;01m{\u001b[39;00merror_message_map[\u001b[38;5;124m'\u001b[39m\u001b[38;5;124msearch_space_arg\u001b[39m\u001b[38;5;124m'\u001b[39m]\u001b[38;5;132;01m}\u001b[39;00m\u001b[38;5;124m` parameter to \u001b[39m\u001b[38;5;124m\"\u001b[39m\n\u001b[0;32m    935\u001b[0m             \u001b[38;5;124mf\u001b[39m\u001b[38;5;124m\"\u001b[39m\u001b[38;5;124m`\u001b[39m\u001b[38;5;132;01m{\u001b[39;00merror_message_map[\u001b[38;5;124m'\u001b[39m\u001b[38;5;124mentrypoint\u001b[39m\u001b[38;5;124m'\u001b[39m]\u001b[38;5;132;01m}\u001b[39;00m\u001b[38;5;124m` with \u001b[39m\u001b[38;5;124m\"\u001b[39m\n\u001b[1;32m   (...)\u001b[0m\n\u001b[0;32m    939\u001b[0m             \u001b[38;5;124m\"\u001b[39m\u001b[38;5;124mthem in the search algorithm\u001b[39m\u001b[38;5;124m'\u001b[39m\u001b[38;5;124ms search space if necessary.\u001b[39m\u001b[38;5;124m\"\u001b[39m\n\u001b[0;32m    940\u001b[0m         )\n",
      "File \u001b[1;32mc:\\Users\\Paul\\anaconda3\\envs\\dvhope-xgb2\\lib\\site-packages\\ray\\tune\\search\\util.py:19\u001b[0m, in \u001b[0;36m_set_search_properties_backwards_compatible\u001b[1;34m(set_search_properties_func, metric, mode, config, **spec)\u001b[0m\n\u001b[0;32m     14\u001b[0m \u001b[38;5;250m\u001b[39m\u001b[38;5;124;03m\"\"\"Wraps around set_search_properties() so that it is backward compatible.\u001b[39;00m\n\u001b[0;32m     15\u001b[0m \n\u001b[0;32m     16\u001b[0m \u001b[38;5;124;03mAlso outputs a warning to encourage custom searchers to be updated.\u001b[39;00m\n\u001b[0;32m     17\u001b[0m \u001b[38;5;124;03m\"\"\"\u001b[39;00m\n\u001b[0;32m     18\u001b[0m \u001b[38;5;28;01mtry\u001b[39;00m:\n\u001b[1;32m---> 19\u001b[0m     \u001b[38;5;28;01mreturn\u001b[39;00m set_search_properties_func(metric, mode, config, \u001b[38;5;241m*\u001b[39m\u001b[38;5;241m*\u001b[39mspec)\n\u001b[0;32m     20\u001b[0m \u001b[38;5;28;01mexcept\u001b[39;00m \u001b[38;5;167;01mTypeError\u001b[39;00m \u001b[38;5;28;01mas\u001b[39;00m e:\n\u001b[0;32m     21\u001b[0m     \u001b[38;5;28;01mif\u001b[39;00m \u001b[38;5;28mstr\u001b[39m(e)\u001b[38;5;241m.\u001b[39mstartswith(\n\u001b[0;32m     22\u001b[0m         \u001b[38;5;124m\"\u001b[39m\u001b[38;5;124mset_search_properties() got an unexpected keyword argument\u001b[39m\u001b[38;5;124m\"\u001b[39m\n\u001b[0;32m     23\u001b[0m     ):\n",
      "File \u001b[1;32mc:\\Users\\Paul\\anaconda3\\envs\\dvhope-xgb2\\lib\\site-packages\\ray\\tune\\search\\search_generator.py:63\u001b[0m, in \u001b[0;36mSearchGenerator.set_search_properties\u001b[1;34m(self, metric, mode, config, **spec)\u001b[0m\n\u001b[0;32m     60\u001b[0m \u001b[38;5;28;01mdef\u001b[39;00m \u001b[38;5;21mset_search_properties\u001b[39m(\n\u001b[0;32m     61\u001b[0m     \u001b[38;5;28mself\u001b[39m, metric: Optional[\u001b[38;5;28mstr\u001b[39m], mode: Optional[\u001b[38;5;28mstr\u001b[39m], config: Dict, \u001b[38;5;241m*\u001b[39m\u001b[38;5;241m*\u001b[39mspec\n\u001b[0;32m     62\u001b[0m ) \u001b[38;5;241m-\u001b[39m\u001b[38;5;241m>\u001b[39m \u001b[38;5;28mbool\u001b[39m:\n\u001b[1;32m---> 63\u001b[0m     \u001b[38;5;28;01mreturn\u001b[39;00m _set_search_properties_backwards_compatible(\n\u001b[0;32m     64\u001b[0m         \u001b[38;5;28mself\u001b[39m\u001b[38;5;241m.\u001b[39msearcher\u001b[38;5;241m.\u001b[39mset_search_properties, metric, mode, config, \u001b[38;5;241m*\u001b[39m\u001b[38;5;241m*\u001b[39mspec\n\u001b[0;32m     65\u001b[0m     )\n",
      "File \u001b[1;32mc:\\Users\\Paul\\anaconda3\\envs\\dvhope-xgb2\\lib\\site-packages\\ray\\tune\\search\\util.py:19\u001b[0m, in \u001b[0;36m_set_search_properties_backwards_compatible\u001b[1;34m(set_search_properties_func, metric, mode, config, **spec)\u001b[0m\n\u001b[0;32m     14\u001b[0m \u001b[38;5;250m\u001b[39m\u001b[38;5;124;03m\"\"\"Wraps around set_search_properties() so that it is backward compatible.\u001b[39;00m\n\u001b[0;32m     15\u001b[0m \n\u001b[0;32m     16\u001b[0m \u001b[38;5;124;03mAlso outputs a warning to encourage custom searchers to be updated.\u001b[39;00m\n\u001b[0;32m     17\u001b[0m \u001b[38;5;124;03m\"\"\"\u001b[39;00m\n\u001b[0;32m     18\u001b[0m \u001b[38;5;28;01mtry\u001b[39;00m:\n\u001b[1;32m---> 19\u001b[0m     \u001b[38;5;28;01mreturn\u001b[39;00m set_search_properties_func(metric, mode, config, \u001b[38;5;241m*\u001b[39m\u001b[38;5;241m*\u001b[39mspec)\n\u001b[0;32m     20\u001b[0m \u001b[38;5;28;01mexcept\u001b[39;00m \u001b[38;5;167;01mTypeError\u001b[39;00m \u001b[38;5;28;01mas\u001b[39;00m e:\n\u001b[0;32m     21\u001b[0m     \u001b[38;5;28;01mif\u001b[39;00m \u001b[38;5;28mstr\u001b[39m(e)\u001b[38;5;241m.\u001b[39mstartswith(\n\u001b[0;32m     22\u001b[0m         \u001b[38;5;124m\"\u001b[39m\u001b[38;5;124mset_search_properties() got an unexpected keyword argument\u001b[39m\u001b[38;5;124m\"\u001b[39m\n\u001b[0;32m     23\u001b[0m     ):\n",
      "File \u001b[1;32mc:\\Users\\Paul\\anaconda3\\envs\\dvhope-xgb2\\lib\\site-packages\\ray\\tune\\search\\bayesopt\\bayesopt_search.py:235\u001b[0m, in \u001b[0;36mBayesOptSearch.set_search_properties\u001b[1;34m(self, metric, mode, config, **spec)\u001b[0m\n\u001b[0;32m    233\u001b[0m \u001b[38;5;28;01mif\u001b[39;00m \u001b[38;5;28mself\u001b[39m\u001b[38;5;241m.\u001b[39moptimizer:\n\u001b[0;32m    234\u001b[0m     \u001b[38;5;28;01mreturn\u001b[39;00m \u001b[38;5;28;01mFalse\u001b[39;00m\n\u001b[1;32m--> 235\u001b[0m space \u001b[38;5;241m=\u001b[39m \u001b[38;5;28;43mself\u001b[39;49m\u001b[38;5;241;43m.\u001b[39;49m\u001b[43mconvert_search_space\u001b[49m\u001b[43m(\u001b[49m\u001b[43mconfig\u001b[49m\u001b[43m)\u001b[49m\n\u001b[0;32m    236\u001b[0m \u001b[38;5;28mself\u001b[39m\u001b[38;5;241m.\u001b[39m_space \u001b[38;5;241m=\u001b[39m space\n\u001b[0;32m    237\u001b[0m \u001b[38;5;28;01mif\u001b[39;00m metric:\n",
      "File \u001b[1;32mc:\\Users\\Paul\\anaconda3\\envs\\dvhope-xgb2\\lib\\site-packages\\ray\\tune\\search\\bayesopt\\bayesopt_search.py:443\u001b[0m, in \u001b[0;36mBayesOptSearch.convert_search_space\u001b[1;34m(spec, join)\u001b[0m\n\u001b[0;32m    437\u001b[0m     \u001b[38;5;28;01mraise\u001b[39;00m \u001b[38;5;167;01mValueError\u001b[39;00m(\n\u001b[0;32m    438\u001b[0m         \u001b[38;5;124m\"\u001b[39m\u001b[38;5;124mBayesOpt does not support parameters of type \u001b[39m\u001b[38;5;124m\"\u001b[39m\n\u001b[0;32m    439\u001b[0m         \u001b[38;5;124m\"\u001b[39m\u001b[38;5;124m`\u001b[39m\u001b[38;5;132;01m{}\u001b[39;00m\u001b[38;5;124m`\u001b[39m\u001b[38;5;124m\"\u001b[39m\u001b[38;5;241m.\u001b[39mformat(\u001b[38;5;28mtype\u001b[39m(domain)\u001b[38;5;241m.\u001b[39m\u001b[38;5;18m__name__\u001b[39m)\n\u001b[0;32m    440\u001b[0m     )\n\u001b[0;32m    442\u001b[0m \u001b[38;5;66;03m# Parameter name is e.g. \"a/b/c\" for nested dicts\u001b[39;00m\n\u001b[1;32m--> 443\u001b[0m bounds \u001b[38;5;241m=\u001b[39m {\u001b[38;5;124m\"\u001b[39m\u001b[38;5;124m/\u001b[39m\u001b[38;5;124m\"\u001b[39m\u001b[38;5;241m.\u001b[39mjoin(path): resolve_value(domain) \u001b[38;5;28;01mfor\u001b[39;00m path, domain \u001b[38;5;129;01min\u001b[39;00m domain_vars}\n\u001b[0;32m    445\u001b[0m \u001b[38;5;28;01mif\u001b[39;00m join:\n\u001b[0;32m    446\u001b[0m     spec\u001b[38;5;241m.\u001b[39mupdate(bounds)\n",
      "File \u001b[1;32mc:\\Users\\Paul\\anaconda3\\envs\\dvhope-xgb2\\lib\\site-packages\\ray\\tune\\search\\bayesopt\\bayesopt_search.py:443\u001b[0m, in \u001b[0;36m<dictcomp>\u001b[1;34m(.0)\u001b[0m\n\u001b[0;32m    437\u001b[0m     \u001b[38;5;28;01mraise\u001b[39;00m \u001b[38;5;167;01mValueError\u001b[39;00m(\n\u001b[0;32m    438\u001b[0m         \u001b[38;5;124m\"\u001b[39m\u001b[38;5;124mBayesOpt does not support parameters of type \u001b[39m\u001b[38;5;124m\"\u001b[39m\n\u001b[0;32m    439\u001b[0m         \u001b[38;5;124m\"\u001b[39m\u001b[38;5;124m`\u001b[39m\u001b[38;5;132;01m{}\u001b[39;00m\u001b[38;5;124m`\u001b[39m\u001b[38;5;124m\"\u001b[39m\u001b[38;5;241m.\u001b[39mformat(\u001b[38;5;28mtype\u001b[39m(domain)\u001b[38;5;241m.\u001b[39m\u001b[38;5;18m__name__\u001b[39m)\n\u001b[0;32m    440\u001b[0m     )\n\u001b[0;32m    442\u001b[0m \u001b[38;5;66;03m# Parameter name is e.g. \"a/b/c\" for nested dicts\u001b[39;00m\n\u001b[1;32m--> 443\u001b[0m bounds \u001b[38;5;241m=\u001b[39m {\u001b[38;5;124m\"\u001b[39m\u001b[38;5;124m/\u001b[39m\u001b[38;5;124m\"\u001b[39m\u001b[38;5;241m.\u001b[39mjoin(path): \u001b[43mresolve_value\u001b[49m\u001b[43m(\u001b[49m\u001b[43mdomain\u001b[49m\u001b[43m)\u001b[49m \u001b[38;5;28;01mfor\u001b[39;00m path, domain \u001b[38;5;129;01min\u001b[39;00m domain_vars}\n\u001b[0;32m    445\u001b[0m \u001b[38;5;28;01mif\u001b[39;00m join:\n\u001b[0;32m    446\u001b[0m     spec\u001b[38;5;241m.\u001b[39mupdate(bounds)\n",
      "File \u001b[1;32mc:\\Users\\Paul\\anaconda3\\envs\\dvhope-xgb2\\lib\\site-packages\\ray\\tune\\search\\bayesopt\\bayesopt_search.py:437\u001b[0m, in \u001b[0;36mBayesOptSearch.convert_search_space.<locals>.resolve_value\u001b[1;34m(domain)\u001b[0m\n\u001b[0;32m    431\u001b[0m         logger\u001b[38;5;241m.\u001b[39mwarning(\n\u001b[0;32m    432\u001b[0m             \u001b[38;5;124m\"\u001b[39m\u001b[38;5;124mBayesOpt does not support specific sampling methods. \u001b[39m\u001b[38;5;124m\"\u001b[39m\n\u001b[0;32m    433\u001b[0m             \u001b[38;5;124m\"\u001b[39m\u001b[38;5;124mThe \u001b[39m\u001b[38;5;132;01m{}\u001b[39;00m\u001b[38;5;124m sampler will be dropped.\u001b[39m\u001b[38;5;124m\"\u001b[39m\u001b[38;5;241m.\u001b[39mformat(sampler)\n\u001b[0;32m    434\u001b[0m         )\n\u001b[0;32m    435\u001b[0m     \u001b[38;5;28;01mreturn\u001b[39;00m (domain\u001b[38;5;241m.\u001b[39mlower, domain\u001b[38;5;241m.\u001b[39mupper)\n\u001b[1;32m--> 437\u001b[0m \u001b[38;5;28;01mraise\u001b[39;00m \u001b[38;5;167;01mValueError\u001b[39;00m(\n\u001b[0;32m    438\u001b[0m     \u001b[38;5;124m\"\u001b[39m\u001b[38;5;124mBayesOpt does not support parameters of type \u001b[39m\u001b[38;5;124m\"\u001b[39m\n\u001b[0;32m    439\u001b[0m     \u001b[38;5;124m\"\u001b[39m\u001b[38;5;124m`\u001b[39m\u001b[38;5;132;01m{}\u001b[39;00m\u001b[38;5;124m`\u001b[39m\u001b[38;5;124m\"\u001b[39m\u001b[38;5;241m.\u001b[39mformat(\u001b[38;5;28mtype\u001b[39m(domain)\u001b[38;5;241m.\u001b[39m\u001b[38;5;18m__name__\u001b[39m)\n\u001b[0;32m    440\u001b[0m )\n",
      "\u001b[1;31mValueError\u001b[0m: BayesOpt does not support parameters of type `Integer`"
     ]
    }
   ],
   "source": [
    "import numpy as np\n",
    "from sklearn.datasets import make_classification\n",
    "from sklearn.model_selection import train_test_split\n",
    "from sklearn.metrics import accuracy_score\n",
    "from xgboost import XGBClassifier\n",
    "from ray import tune\n",
    "from ray.tune.search.bayesopt import BayesOptSearch\n",
    "\n",
    "# Generate a synthetic classification dataset\n",
    "X, y = make_classification(n_samples=1000, n_features=10, n_informative=5, n_redundant=2, random_state=42)\n",
    "X_train, X_test, y_train, y_test = train_test_split(X, y, test_size=0.2, random_state=42)\n",
    "\n",
    "# Define the objective function\n",
    "def objective(config):\n",
    "    model = XGBClassifier(\n",
    "        n_estimators=config[\"n_estimators\"],\n",
    "        max_depth=config[\"max_depth\"],\n",
    "        learning_rate=config[\"learning_rate\"],\n",
    "        subsample=config[\"subsample\"],\n",
    "        colsample_bytree=config[\"colsample_bytree\"],\n",
    "        random_state=42,\n",
    "    )\n",
    "    model.fit(X_train, y_train)\n",
    "    y_pred = model.predict(X_test)\n",
    "    accuracy = accuracy_score(y_test, y_pred)\n",
    "    return {\"accuracy\": accuracy}\n",
    "\n",
    "# Define the search space\n",
    "config = {\n",
    "    \"n_estimators\": tune.randint(50, 500),\n",
    "    \"max_depth\": tune.randint(2, 10),\n",
    "    \"learning_rate\": tune.loguniform(1e-3, 1e-1),\n",
    "    \"subsample\": tune.uniform(0.5, 1.0),\n",
    "    \"colsample_bytree\": tune.uniform(0.5, 1.0),\n",
    "}\n",
    "\n",
    "# Create a Ray Tune experiment\n",
    "bayesopt = BayesOptSearch(metric=\"accuracy\", mode=\"max\")\n",
    "\n",
    "analysis = tune.run(\n",
    "    objective,\n",
    "    config=config,\n",
    "    search_alg=bayesopt,\n",
    "    num_samples=50,\n",
    "    resources_per_trial={\"cpu\": 2},\n",
    ")\n",
    "\n",
    "# Get the best hyperparameters and corresponding accuracy\n",
    "best_config = analysis.get_best_config(metric=\"accuracy\", mode=\"max\")\n",
    "best_accuracy = analysis.best_result[\"accuracy\"]\n",
    "\n",
    "print(f\"Best hyperparameters: {best_config}\")\n",
    "print(f\"Best accuracy: {best_accuracy:.4f}\")"
   ]
  },
  {
   "cell_type": "code",
   "execution_count": null,
   "metadata": {},
   "outputs": [],
   "source": []
  }
 ],
 "metadata": {
  "kernelspec": {
   "display_name": "dvhope-xgb2",
   "language": "python",
   "name": "python3"
  },
  "language_info": {
   "codemirror_mode": {
    "name": "ipython",
    "version": 3
   },
   "file_extension": ".py",
   "mimetype": "text/x-python",
   "name": "python",
   "nbconvert_exporter": "python",
   "pygments_lexer": "ipython3",
   "version": "3.10.0"
  }
 },
 "nbformat": 4,
 "nbformat_minor": 2
}
